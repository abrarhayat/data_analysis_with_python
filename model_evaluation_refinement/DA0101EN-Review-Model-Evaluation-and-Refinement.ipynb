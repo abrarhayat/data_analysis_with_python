{
  "nbformat": 4,
  "nbformat_minor": 0,
  "metadata": {
    "anaconda-cloud": {},
    "kernelspec": {
      "display_name": "Python 3",
      "language": "python",
      "name": "python3"
    },
    "language_info": {
      "codemirror_mode": {
        "name": "ipython",
        "version": 3
      },
      "file_extension": ".py",
      "mimetype": "text/x-python",
      "name": "python",
      "nbconvert_exporter": "python",
      "pygments_lexer": "ipython3",
      "version": "3.7.3"
    },
    "colab": {
      "name": "DA0101EN-Review-Model-Evaluation-and-Refinement.ipynb",
      "provenance": [],
      "collapsed_sections": []
    },
    "widgets": {
      "application/vnd.jupyter.widget-state+json": {
        "fdc9b09d11414a25bba04098d0f612de": {
          "model_module": "@jupyter-widgets/controls",
          "model_name": "VBoxModel",
          "state": {
            "_view_name": "VBoxView",
            "_dom_classes": [
              "widget-interact"
            ],
            "_model_name": "VBoxModel",
            "_view_module": "@jupyter-widgets/controls",
            "_model_module_version": "1.5.0",
            "_view_count": null,
            "_view_module_version": "1.5.0",
            "box_style": "",
            "layout": "IPY_MODEL_4a19f19206f74232a8a2e5750d0093ed",
            "_model_module": "@jupyter-widgets/controls",
            "children": [
              "IPY_MODEL_49287a8e49c149ad8115188a1f54cbe7",
              "IPY_MODEL_e582e7e499244af1958b490ef8d2f1a3",
              "IPY_MODEL_0887b729a72a47c5958899cedc5ec84b"
            ]
          }
        },
        "4a19f19206f74232a8a2e5750d0093ed": {
          "model_module": "@jupyter-widgets/base",
          "model_name": "LayoutModel",
          "state": {
            "_view_name": "LayoutView",
            "grid_template_rows": null,
            "right": null,
            "justify_content": null,
            "_view_module": "@jupyter-widgets/base",
            "overflow": null,
            "_model_module_version": "1.2.0",
            "_view_count": null,
            "flex_flow": null,
            "width": null,
            "min_width": null,
            "border": null,
            "align_items": null,
            "bottom": null,
            "_model_module": "@jupyter-widgets/base",
            "top": null,
            "grid_column": null,
            "overflow_y": null,
            "overflow_x": null,
            "grid_auto_flow": null,
            "grid_area": null,
            "grid_template_columns": null,
            "flex": null,
            "_model_name": "LayoutModel",
            "justify_items": null,
            "grid_row": null,
            "max_height": null,
            "align_content": null,
            "visibility": null,
            "align_self": null,
            "height": null,
            "min_height": null,
            "padding": null,
            "grid_auto_rows": null,
            "grid_gap": null,
            "max_width": null,
            "order": null,
            "_view_module_version": "1.2.0",
            "grid_template_areas": null,
            "object_position": null,
            "object_fit": null,
            "grid_auto_columns": null,
            "margin": null,
            "display": null,
            "left": null
          }
        },
        "49287a8e49c149ad8115188a1f54cbe7": {
          "model_module": "@jupyter-widgets/controls",
          "model_name": "IntSliderModel",
          "state": {
            "_view_name": "IntSliderView",
            "style": "IPY_MODEL_c8df24eb60954a579324c6ce8b9f1b45",
            "_dom_classes": [],
            "description": "order",
            "step": 1,
            "_model_name": "IntSliderModel",
            "orientation": "horizontal",
            "max": 6,
            "_view_module": "@jupyter-widgets/controls",
            "_model_module_version": "1.5.0",
            "value": 5,
            "_view_count": null,
            "disabled": false,
            "_view_module_version": "1.5.0",
            "min": 0,
            "continuous_update": true,
            "readout_format": "d",
            "description_tooltip": null,
            "readout": true,
            "_model_module": "@jupyter-widgets/controls",
            "layout": "IPY_MODEL_e29af5f575544a8c9af4c4fbee51f051"
          }
        },
        "e582e7e499244af1958b490ef8d2f1a3": {
          "model_module": "@jupyter-widgets/controls",
          "model_name": "FloatSliderModel",
          "state": {
            "_view_name": "FloatSliderView",
            "style": "IPY_MODEL_2606713b03dd498da9dd423359b6f305",
            "_dom_classes": [],
            "description": "test_data",
            "step": 0.05,
            "_model_name": "FloatSliderModel",
            "orientation": "horizontal",
            "max": 0.95,
            "_view_module": "@jupyter-widgets/controls",
            "_model_module_version": "1.5.0",
            "value": 0.8,
            "_view_count": null,
            "disabled": false,
            "_view_module_version": "1.5.0",
            "min": 0.05,
            "continuous_update": true,
            "readout_format": ".2f",
            "description_tooltip": null,
            "readout": true,
            "_model_module": "@jupyter-widgets/controls",
            "layout": "IPY_MODEL_50ca43d0316c4865b67dddef65c54c7d"
          }
        },
        "0887b729a72a47c5958899cedc5ec84b": {
          "model_module": "@jupyter-widgets/output",
          "model_name": "OutputModel",
          "state": {
            "_view_name": "OutputView",
            "msg_id": "",
            "_dom_classes": [],
            "_model_name": "OutputModel",
            "outputs": [
              {
                "output_type": "display_data",
                "metadata": {
                  "tags": [],
                  "needs_background": "light"
                },
                "image/png": "iVBORw0KGgoAAAANSUhEUgAAAugAAAJCCAYAAACS3TIYAAAABHNCSVQICAgIfAhkiAAAAAlwSFlzAAALEgAACxIB0t1+/AAAADh0RVh0U29mdHdhcmUAbWF0cGxvdGxpYiB2ZXJzaW9uMy4yLjEsIGh0dHA6Ly9tYXRwbG90bGliLm9yZy+j8jraAAAgAElEQVR4nOzdeXyV5Z3///eVnZAQ9jUkBxRB1gAR961YQC1qrVZtWq1barW22p/adtJRab/pbzp2RmpnlKbqqJ3Tb3WsWqlaq1SKU6oCgoRFFjEJYUlClpOE7Mn1/SN3QoCEbCe5z/J6Ph555Jzr3Oc+n2OCeefKdX1uY60VAAAAgMAQ4XYBAAAAAI4hoAMAAAABhIAOAAAABBACOgAAABBACOgAAABAACGgAwAAAAHE1YBujBlujHnZGPOpMWanMeZcY8xIY8w7xpg9zucRzrHGGPOEMWavMWarMWZBh/Pc4hy/xxhzS4fxhcaYXOc5TxhjjBvvEwAAAOgpt2fQfynpz9baGZLmSdop6YeS1lhrp0la49yXpMslTXM+MiU9JUnGmJGSHpF0tqRFkh5pC/XOMXd2eN6yQXhPAAAAQJ+5FtCNMUmSLpL0jCRZaxustRWSrpb0vHPY85KucW5fLekF2+oDScONMRMkLZX0jrW2zFpbLukdScucx4ZZaz+wrVdjeqHDuQAAAICAFOXia0+RVCLpv4wx8yRtkvQ9SeOstYecYw5LGufcniRpf4fnFzpjpxov7GT8JMaYTLXOymvo0KELZ8yY0fd3BQCAi1qs1faDlRo/LE5jEmPdLgfAKWzatOmItXbMieNuBvQoSQsk3Wut/dAY80sdW84iSbLWWmOMHehCrLU5knIkKT093W7cuHGgXxIAgAGRd+SoLvnFWv3i+nm6bmGy2+UAOAVjTH5n426uQS+UVGit/dC5/7JaA3uRszxFzudi5/EDkiZ3eH6yM3aq8eROxgEACFlHquslSaMTYlyuBEBfuRbQrbWHJe03xkx3hhZL2iHpdUltnVhukfRH5/brkm52urmcI8nnLIV5W9ISY8wIZ3PoEklvO49VGmPOcbq33NzhXAAAhKRjAZ3lLUCwcnOJiyTdK8lrjImRtE/SrWr9peElY8ztkvIlfdU59k1JV0jaK6nGOVbW2jJjzE8lbXCO+4m1tsy5fbek5yQNkfSW8wEAQMgqqW6QJNafA0HM1YBurd0iKb2ThxZ3cqyVdE8X53lW0rOdjG+UNLufZQIAEDSOVLXOoI8cyhKXQNLY2KjCwkLV1dW5XQpcEBcXp+TkZEVHR/foeLdn0AEAgB8dqa7XiPhoRUe6fakTdFRYWKjExER5PB5x3cTwYq1VaWmpCgsLNWXKlB49h3+9AACEkJKqeo1NjHO7DJygrq5Oo0aNIpyHIWOMRo0a1au/nhDQAQAIIcVV9aw/D1CE8/DV2689AR0AgBDSOoNOQAeCGQEdAIAQYa1VCTPo6ERpaanS0tKUlpam8ePHa9KkSe33GxoaTvncjRs36rvf/W63r3Heeef5pda1a9cqKSlJ8+fP1/Tp03XRRRfpT3/6U4+et379er/U4DY2iQIAECIqa5vU0NxCQA8FXq+UlSUVFEgpKVJ2tpSR0efTjRo1Slu2bJEkPfroo0pISNADDzzQ/nhTU5OiojqPhenp6UpP76zp3vH8GY4vvPDC9lC+ZcsWXXPNNRoyZIgWLz6p0V+7tWvXKiEhwW+/KLiJGXQAAEJESXXrJjQCepDzeqXMTCk/X7K29XNmZuu4H33zm9/UXXfdpbPPPlsPPfSQPvroI5177rmaP3++zjvvPO3atUtSa/D90pe+JKk13N9222265JJLNHXqVD3xxBPt50tISGg//pJLLtF1112nGTNmKCMjQ63dsqU333xTM2bM0MKFC/Xd7363/bynkpaWpocfflj/8R//IUlavXq1zj77bM2fP1+XXXaZioqKlJeXp1WrVunxxx9XWlqa3n///U6PCxbMoAMAECKKK1t7oBPQg1xWllRTc/xYTU3reD9m0TtTWFio9evXKzIyUpWVlXr//fcVFRWld999V//0T/+kP/zhDyc959NPP9V7772nqqoqTZ8+Xd/+9rdP6u+9efNmbd++XRMnTtT555+vv//970pPT9e3vvUtrVu3TlOmTNFNN93U4zoXLFigxx57TJJ0wQUX6IMPPpAxRk8//bT+9V//Vf/2b/+mu+6667i/DJSXl3d6XDAgoAMAECJKqlsDOm0Wg1xBQe/G++H6669XZGSkJMnn8+mWW27Rnj17ZIxRY2Njp8+58sorFRsbq9jYWI0dO1ZFRUVKTk4+7phFixa1j6WlpSkvL08JCQmaOnVqey/wm266STk5OT2qs20GXmr9peKGG27QoUOH1NDQ0GVv8Z4eF4hY4gIAQIhgBj1EpKT0brwfhg4d2n77n//5n3XppZdq27ZtWr16dZd9u2Njj31/RUZGqqmpqU/H9MbmzZt15plnSpLuvfdefec731Fubq5+/etfd1lnT48LRAR0AABCREl1vWKjIjQsjj+QB7XsbCk+/vix+PjW8QHk8/k0adIkSdJzzz3n9/NPnz5d+/btU15eniTpxRdf7NHztm7dqp/+9Ke65557Tqrz+eefbz8uMTFRVVVV7fe7Oi4YENABAAgRbS0WuSBOkMvIkHJypNRUyZjWzzk5fl9/fqKHHnpIP/rRjzR//vx+z3h3ZsiQIXryySe1bNkyLVy4UImJiUpKSur02Pfff7+9zeI999yjJ554or2Dy6OPPqrrr79eCxcu1OjRo9ufs3z5cr366qvtm0S7Oi4YmI5reiClp6fbjRs3ul0GAAC9lvH0B6ppaNard5/vdik4wc6dO9uXaISz6upqJSQkyFqre+65R9OmTdP999/vdlmDorPvAWPMJmvtST0smUEHACBEcBVRBLrf/OY3SktL06xZs+Tz+fStb33L7ZICEovUAAAIEcVV9Vo0ZaTbZQBduv/++8Nmxrw/mEEHACAE1Dc1q6KmkRaLQAggoAMAEAJKqxsk0WIRCAUEdAAAQkBxldMDPYGADgQ7AjoAACGgxAnoY4cR0IFgR0AHACAEFFe1XiWRJS7oTGlpqdLS0pSWlqbx48dr0qRJ7fcbGhq6ff7atWu1fv36Th977rnnNGbMGM2fP1/Tpk3T0qVLuzy2o9dee007duzo9XsJBwR0AABCQNsM+miWuIQEb65XnpUeRayIkGelR95cb7/ON2rUKG3ZskVbtmzRXXfdpfvvv7/9fkxMTLfPP1VAl6QbbrhBmzdv1p49e/TDH/5Q1157rXbu3HnKcxLQu0ZABwAgBJRU1Wvk0BhFR/KjPdh5c73KXJ2pfF++rKzyffnKXJ3Z75B+ok2bNuniiy/WwoULtXTpUh06dEiS9MQTT2jmzJmaO3eubrzxRuXl5WnVqlV6/PHH26/SeSqXXnqpMjMzlZOTI6m19/lZZ52lefPm6Stf+Ypqamq0fv16vf7663rwwQeVlpamzz77rNPjwhX/igEACAHFXKQoZGStyVJN4/HhtKaxRllrsvz2GtZa3XvvvXr55Ze1adMm3XbbbcrKaj3/v/zLv2jz5s3aunWrVq1aJY/Hc9ys+4UXXtjt+RcsWKBPP/1UknTttddqw4YN+uSTT3TmmWfqmWee0XnnnaerrrpKjz32mLZs2aLTTjut0+PCFRcqAgAgBJRU1bP+PEQU+Ap6Nd4X9fX12rZtm774xS9KkpqbmzVhwgRJ0ty5c5WRkaFrrrlG11xzTZ/Ob61tv71t2zb9+Mc/VkVFhaqrq7V06dJOn9PT48IBAR0AgBBQUlWvqaOHul0G/CAlKUX5vvxOx/3FWqtZs2bpH//4x0mPvfHGG1q3bp1Wr16t7Oxs5ebm9vr8mzdv1plnnilJ+uY3v6nXXntN8+bN03PPPae1a9d2+pyeHhcOWOICAECQs9a2zqDTYjEkZC/OVnx0/HFj8dHxyl6c7bfXiI2NVUlJSXtAb2xs1Pbt29XS0qL9+/fr0ksv1c9//nP5fD5VV1crMTFRVVVVPTr33/72N+Xk5OjOO++UJFVVVWnChAlqbGyU13tsHf2J5+zquHBEQAcAIMhV1japobmFixSFiIw5GcpZnqPUpFQZGaUmpSpneY4y5mT47TUiIiL08ssv6wc/+IHmzZuntLQ0rV+/Xs3Nzfr617+uOXPmaP78+frud7+r4cOHa/ny5Xr11Ve73CT64osvKi0tTWeccYZ+9rOf6Q9/+EP7DPpPf/pTnX322Tr//PM1Y8aM9ufceOONeuyxxzR//nx99tlnXR4XjkzHNUKQ0tPT7caNG90uAwCAHttTVKUvPr5OT9w0X1fNm+h2OejEzp072wMrwlNn3wPGmE3W2vQTj2UGHQCAINfWA50ZdCA0ENABAAhyxW0BnS4uQEggoAMAEOTaZtDHskkUCAkEdAAAglxJdb1ioyKUGEv3ZCAUENABAAhyxZV1GjssVsYYt0sB4AcEdAAAglxxVT0bRIEQQkAHACDIFVXWaXxSnNtlIMBFRkYqLS1Ns2fP1vXXX6+ampo+n+ub3/ymXn75ZUnSHXfcoR07dnR57Nq1a7V+/fpev4bH49GRI0c6HZ8zZ47S0tLa+7f7y4m1rlq1Si+88ILfzt9TLFYDACDIFVfW68JpY9wuAwFuyJAh2rJliyQpIyNDq1at0ve///32x5uamhQV1fto+PTTT5/y8bVr1yohIUHnnXder8/dlffee0+jR4/22/nanFjrXXfd5ffX6Alm0AEACGJH65tUVd+kccOYQUfPXXjhhdq7d6/Wrl2rCy+8UFdddZVmzpyp5uZmPfjggzrrrLM0d+5c/frXv5YkWWv1ne98R9OnT9dll12m4uLi9nNdcsklarvI45///GctWLBA8+bN0+LFi5WXl6dVq1bp8ccfb78KaUlJib7yla/orLPO0llnnaW///3vkqTS0lItWbJEs2bN0h133KHeXEyzYw1HjhyRx+ORJD333HO69tprtWzZMk2bNk0PPfRQ+3N6Uuujjz6qX/ziF5KkLVu26JxzztHcuXP15S9/WeXl5e2v/YMf/ECLFi3SGWec0emVVnuLGXQAAIJYUWWdJGkcLRaDxorV27XjYKVfzzlz4jA9snxWj45tamrSW2+9pWXLlkmSPv74Y23btk1TpkxRTk6OkpKStGHDBtXX1+v888/XkiVLtHnzZu3atUs7duxQUVGRZs6cqdtuu+2485aUlOjOO+/UunXrNGXKFJWVlWnkyJG66667lJCQoAceeECS9LWvfU3333+/LrjgAhUUFGjp0qXauXOnVqxYoQsuuEAPP/yw3njjDT3zzDNdvodLL71UkZGRio2N1YcffnjK97tlyxZt3rxZsbGxmj59uu69917FxcX1qNY1a9a0n+fmm2/Wr371K1188cV6+OGHtWLFCq1cubL9v+lHH32kN998UytWrNC7777bo69FVwjoAAAEsaLK1h7o45lBRzdqa2uVlpYmqXUG/fbbb9f69eu1aNEiTZkyRZL0l7/8RVu3bm1fX+7z+bRnzx6tW7dON910kyIjIzVx4kR94QtfOOn8H3zwgS666KL2c40cObLTOt59993j1qxXVlaqurpa69at0yuvvCJJuvLKKzVixIgu30tvlrgsXrxYSUlJkqSZM2cqPz9f5eXlPaq1jc/nU0VFhS6++GJJ0i233KLrr7++/fFrr71WkrRw4ULl5eX1qK5TIaADABDEiqtaZ9DHEtCDRk9nuv2t4xr0joYOHdp+21qrX/3qV1q6dOlxx7z55pt+q6OlpUUffPCB4uL89z0bFRWllpYWSVJdXd1xj8XGHvvrUmRkpJqamvz2uie+hr/Ozxp0AACCGEtc4E9Lly7VU089pcbGRknS7t27dfToUV100UV68cUX1dzcrEOHDum999476bnnnHOO1q1bp88//1ySVFZWJklKTExUVVVV+3FLlizRr371q/b7bb80XHTRRfrd734nSXrrrbfa13j3hMfj0aZNmySpffb/VHpaa5ukpCSNGDGifX35b3/72/bZ9IFAQAcAIIgd9tUrPiZSCVxFFH5wxx13aObMmVqwYIFmz56tb33rW2pqatKXv/xlTZs2TTNnztTNN9+sc88996TnjhkzRjk5Obr22ms1b9483XDDDZKk5cuX69VXX23fePnEE09o48aNmjt3rmbOnKlVq1ZJkh555BGtW7dOs2bN0iuvvKKUlJQe1/3AAw/oqaee0vz58zttzdjXWjt6/vnn9eCDD2ru3LnasmWLHn744R7X11umNztkw0F6erpt2wUMAECgu+d3H2vnwUr99YFL3C4Fp7Bz506deeaZbpcBF3X2PWCM2WStTT/xWGbQAQAIYsWVdRrL8hYgpBDQAQAIYkWV9fRAB0IMAR0AgCBlrdXhyjoCepBgWXH46u3XnoAOAECQ8tU2qqGphYAeBOLi4lRaWkpID0PWWpWWlvaqrSRbvgEACFJtFymixWLgS05OVmFhoUpKStwuBS6Ii4tTcnJyj48noAMAEKSO9UBnBj3QRUdHt1+1EugOS1wAAAhSh9sCeiIBHQglBHQAAIJUsRPQabMIhBYCOgAAQaqosl7D46MVFx3pdikA/IiADgBAkDpcWcfyFiAEEdABAAhSXEUUCE0EdAAAglRRZb3G08EFCDkEdAAAglBzi1VJdT0tFoEQREAHACAIlVbXq7nFcpEiIAQR0AEACELHriLKDDoQagjoAAAEIa4iCoQuAjoAAEGoqIqADoQqAjoAAEGoyFenCCONTohxuxQAfkZABwAgCBVV1mt0QqyiIvlRDoQa/lUDABCEiqrqWN4ChCgCOgAAQeiwr05jE2mxCIQiAjoAAEGoqLJO45OYQQdCEQEdAIAgU9fYrPKaRk0cPsTtUgAMAAI6AABB5pCvtcXieNagAyGJgA4AQJA55KuVJE1giQsQkgjoAAAEmcNtM+gEdCAkuRrQjTF5xphcY8wWY8xGZ2ykMeYdY8we5/MIZ9wYY54wxuw1xmw1xizocJ5bnOP3GGNu6TC+0Dn/Xue5ZvDfJQAA/tW2xGVCEmvQgVAUCDPol1pr06y16c79H0paY62dJmmNc1+SLpc0zfnIlPSU1BroJT0i6WxJiyQ90hbqnWPu7PC8ZQP/dgAAGFiHfLUaHh+tITGRbpcCYAAEQkA/0dWSnnduPy/pmg7jL9hWH0gaboyZIGmppHestWXW2nJJ70ha5jw2zFr7gbXWSnqhw7kAAAhah311bBAFQpjbAd1K+osxZpMxJtMZG2etPeTcPixpnHN7kqT9HZ5b6Iydarywk/GTGGMyjTEbjTEbS0pK+vN+AAAYcId8dWwQBUKY2wH9AmvtArUuX7nHGHNRxwedmW870EVYa3OstenW2vQxY8YM9MsBANAvh311Gs/6cyBkuRrQrbUHnM/Fkl5V6xryImd5ipzPxc7hByRN7vD0ZGfsVOPJnYwDABC06hqbVXq0QROZQQdClmsB3Rgz1BiT2HZb0hJJ2yS9LqmtE8stkv7o3H5d0s1ON5dzJPmcpTBvS1pijBnhbA5dIult57FKY8w5TveWmzucCwCAoFRUSYtFINRFufja4yS96nQ+jJL0O2vtn40xGyS9ZIy5XVK+pK86x78p6QpJeyXVSLpVkqy1ZcaYn0ra4Bz3E2ttmXP7bknPSRoi6S3nAwCAoEWLRSD0uRbQrbX7JM3rZLxU0uJOxq2ke7o417OSnu1kfKOk2f0uFgCAAMFFioDQ5/YmUQAA0AvHZtAJ6ECoIqADABBEDvlqNSwuSkNj3VylCmAgEdABAAgirT3QWX8OhDICOgAAQaS1BzrLW4BQRkAHACCIcBVRIPQR0AEACBL1Tc06Ul3PEhcgxBHQAQAIEsWV9ZLo4AKEOgI6AABB4hA90IGwQEAHACBIHPLVSmIGHQh1BHQAAIIEM+hAeCCgAwAQJA776pQYG6XEuGi3SwEwgAjoAAAEiUO+Wo1j9hwIeQR0AACCxMGKOk0aTotFINQR0AEACBIHK2o1kYAOhDwCOgAAQaC2oVmlRxs0aThLXIBQR0AHACAIHHRaLDKDDoQ+AjoAAEHgYEVrQGcNOhD6COgAAASBA+XMoAPhgoAOAEAQOFhRqwjDRYqAcEBABwAgCByoqNO4YXGKjuRHNxDq+FcOAEAQOFBRw/IWIEwQ0AEACAIHK+oI6ECYIKADABDgWlqsDvlqNZEe6EBYIKADABDgjlTXq7HZKpkZdCAsENABAAhwhRW0WATCCQEdAIAAd5CADoQVAjoAAAGu/SqiIwjoQDggoAMA4DJvrleelR5FrIiQZ6VH3lzvcY8fKK9VYmyUhsVFu1QhgMEU5XYBAACEM2+uV5mrM1XTWCNJyvflK3N1piQpY06GpNaLFLG8BQgfzKADAOCirDVZ7eG8TU1jjbLWZLXfP1hRy/IWIIwQ0AEAcFGBr6Db8QMV9EAHwgkBHQAAF6UkpZxyvLq+Sb7aRpa4AGGEgA4AgIuyF2crPjr+uLH46HhlL86WJB1q6+BCQAfCBgEdAAAXZczJUM7yHKUmpcrIKDUpVTnLczpsECWgA+GGLi4AALgsY05GeyA/0QEuUgSEHWbQAQAIYAcrahUZYTQ2MdbtUgAMEgI6AAABbH9ZrSYkxSkqkh/ZQLjgXzsAAAGssLxGk0fEd38ggJBBQAcAIIDtL69VMhcpAsIKAR0AgABV19iskqp6TR7JDDoQTgjoAAAEqMLy1g4uzKAD4YWADgBAgCosr5EkZtCBMENABwAgQO13ZtDZJAqEFwI6AAABqrCsRjGREfRAB8IMAR0AgABVWF6rSSOGKCLCuF0KgEFEQAcAIEDtL69hgygQhgjoAAAEqMLyWiWz/hwIOwR0AAAC0NH6JpUdbdDkkcygA+GGgA4AQAA61gOdGXQg3BDQAQAIQPvLnB7orEEHwg4BHQCAALTfuUgRM+hA+CGgAwAQgArLazUkOlKjE2LcLgXAICOgAwAQgPaXtbZYNIYe6EC4IaADABCAWlsssv4cCEcEdAAAAtD+8hpNHsn6cyAcEdABAAgwvtpGVdU1MYMOhCkCOgAAAeZYi0Vm0IFwREAHACDAFDotFlniAoQnAjoAAIPIm+uVZ6VHESsi5FnpkTfXe9IxBcygA2Etyu0CAAAIF95crzJXZ6qmsTWA5/vylbk6U5KUMSej/bj80holDYlWUny0K3UCcBcz6AAADJKsNVnt4bxNTWONstZkHTdWUFaj1FHMngPhioAOAMAgKfAVdDGeL3k8UkSE5PEoP79IKaw/B8IWAR0AgEGSkpTS+bjPSPn5krVq3F+oA3VS6qHPB7k6AIGCgA4AwCDJXpyt+OjjZ8bjm4yy37Xt9w8OG6PmiEil/unlwS4PQIAgoAMAMEgy5mQoZ3mOUpNSZWSUmpSqnD9aZeQeOyZ/+ARJUsq+7S5VCcBtdHEBAGAQZczJOK5ji1Z6JOW3380fPl6SlBrPHBoQrvjXDwCAm7Kzpfhjy14KRkxQTFODxmU96GJRANxEQAcAwE0ZGVJOjpSaKhmjvImnKXVopCK+ntH9cwGEJAI6AABuy8iQ8vKklhYVLLxAqVMnuF0RABe5HtCNMZHGmM3GmD8596cYYz40xuw1xrxojIlxxmOd+3udxz0dzvEjZ3yXMWZph/FlztheY8wPB/u9AQDQG9ZaFZTVKGXkULdLAeAi1wO6pO9J2tnh/s8lPW6tPV1SuaTbnfHbJZU74487x8kYM1PSjZJmSVom6Ukn9EdK+k9Jl0uaKekm51gAAAJSSVW9ahubuYooEOZcDejGmGRJV0p62rlvJH1BUlvz1+clXePcvtq5L+fxxc7xV0v6vbW23lr7uaS9khY5H3uttfustQ2Sfu8cCwBAQMovq5EkpRDQgbDm9gz6SkkPSWpx7o+SVGGtbXLuF0qa5NyeJGm/JDmP+5zj28dPeE5X4ycxxmQaYzYaYzaWlJT09z0BANAn+aWtAT11JAEdCGeuBXRjzJckFVtrN7lVQxtrbY61Nt1amz5mzBi3ywEAhKmC0qOKMFLyCAI6EM7cvFDR+ZKuMsZcISlO0jBJv5Q03BgT5cySJ0s64Bx/QNJkSYXGmChJSZJKO4y36ficrsYBAAg4+WU1mpA0RDFRbv+BG4CbXPs/gLX2R9baZGutR62bPP9qrc2Q9J6k65zDbpH0R+f26859OY//1VprnfEbnS4vUyRNk/SRpA2SpjldYWKc13h9EN4aAAB9kl9awwZRAK6vQe/MDyR93xizV61rzJ9xxp+RNMoZ/76kH0qStXa7pJck7ZD0Z0n3WGubnRn470h6W61dYl5yjgUAICAVlBHQAbi7xKWdtXatpLXO7X1q7cBy4jF1kq7v4vnZkrI7GX9T0pt+LBUAgAFRWdeosqMN9EAHEJAz6AAAhJ2Ctg4uzKADYY+ADgBAAMgrPSpJ8oxiBh0IdwR0AAACwOclTkAfzQw6EO4I6AAABIDPjxzVhKQ4xccExPYwAC4ioAMAEAD2HTmqKaNZ3gKAgA4AgOustdpXUk1AByCJgA4AgOvKaxpVWddEQAcgiYAOAIDrPj/SukF06hgCOgACOgAArmsL6FNGJ7hcCYBAQEAHAMBlnx+pVmSEUfKIIW6XAiAAENABAHDZ50eOKmVkvKIj+bEMgIAOAIDr9pXQYhHAMQR0AABc1NJilVdKQAdwDAEdAAAXFVXVqa6xhYAOoB0BHQAAF31e4rRYJKDLm+uVZ6VHESsi5FnpkTfX63ZJgCui3C4AAIBw4s31KmtNlgp8BUpJStFVkx+TFK8pYd4D3ZvrVebqTNU01kiS8n35ylydKUnKmJPhZmnAoGMGHQCAQdIWQvN9+bKyyvfl6/ef/FXRkVbjEuPcLs9VWWuy2sN5m5rGGmWtyXKpIsA9BHQAAAZJZyFUTWPVaA4oIsK4U1SAKPAV9GocCGUEdAAABklnYTPaTtJRmzf4xQSYlKSUXo0DoYyADgDAIDkpbNpIRdlxGhpX7U5BASR7cbbio+OPG4uPjlf24myXKgLcQ0AHAGCQnBhCo+x4GUXpurkXulhVYGshAFMAACAASURBVMiYk6Gc5TlKTUqVkVFqUqpyluewQRRhiS4uAAAMkraw2dbFZdKQBVK99I0FS1yuLDBkzMkgkANiBh0AgEGVMSdDefflqeWRFj149r9Lkk4bm+ByVUD4CeS++8ygAwDgks+KqzUhKU4Jsfw4BgZToPfdZwYdAACX7C2p1unMngODLtD77hPQAQDoAX//Odxaq8+Kq3XaGAI6MNgCve8+AR0AgG50dgXQzNWZ/Qrph3x1OtrQzPpzwAWB3nefgA4AQDcG4s/he4tbe5+fzgw6MOgCve8+AR0AgG4MxJ/D2wM6M+jAoAv0vvtsGwcA9Jk319ve0zslKUXZi7MD5gecP6UkpSjfl9/peF/tLalW0pBojU6I6U9pAPookPvuM4MOAOiTgViXHagG4s/he4tbO7gYY/pbHoAQQ0AHAPRJoLcp86eB+HP4Z8XVrD8H0CmWuAAA+iTQ25T5mz//HF5+tEGlRxtYfw6gU8ygAwD6JNDblAWyvSVsEAXQNQI6AKBPAr1NWSCjgwuAUyGgAwD6JNDblAWyvcXViouO0KThQ9wuBUAAIqADADDI9hZXa+roBEVE0MEFwMkI6ACAPgmnNov+1tZiEcfz5nrlWelRxIoIeVZ6+F5C2CKgAwD6JJzaLPpTdX2TDlTU6oxxBPSO+IUPOIaADgDok3Brs+gvu4uqJElnjEt0uZLAwi98wDEEdABAn9BmsW92H24N6DPGD3O5ksDCL3zAMQR0AECf0Gaxb3YVVWlIdKSSR9DBpSN+4QOOIaADAPqENot9s+twlc4YRweXE/ELH3BMlNsFAACCV8acDAJ5L+0uqtIXZox1u4yA0/Z9lLUmSwW+AqUkpSh7cTbfXwhLBHQAAAbJkep6HaluYINoF/iFD2jFEhcAAAYJG0QB9AQBHQCAQbKrrcXieHqgA+gaAR0AgEGy63CVRg6N0ZiEWLdLARDACOgAAAySXUWtHVyMoYMLgK4R0AEAGAQtLVa7D1dpOhtEu+TN9cqz0qOIFRHyrPTIm+t1uyTAFXRxAQBgEByoqNXRhmZNZ4Nop7y5XmWuzlRNY40kKd+Xr8zVmZJEZxeEHWbQAQDogf7O7u5yOrhMZ4Nop7LWZLWH8zY1jTXKWpPlUkWAe5hBBwCgG/6Y3W3v4MISl04V+Ap6NQ6EMmbQAQDohj9md3cXVWnS8CFKjIv2d3khISUppVfjQCgjoAMA0A1/zO5+eqhK08cze96V7MXZio+OP24sPjpe2YuzXaoIcA8BHQCAbvR3dreusVl7S6o1cwIbRLuSMSdDOctzlJqUKiOj1KRU5SzPYYMowhIBHUDo8Xolj0eKiGj97KVVG/qnv7O7u4uq1NxiNWsiAf1UMuZkKO++PLU80qK8+/II5whbBHQAocXrlTIzpfx8ydrWz5mZhHT0S39nd3ccrJQkzSSgA+gBurgACC1ZWVLN8Zv5VFPTOp7BbBz6LmNORp9ndHccqlRCbJQmj4jv/mAAYY8ZdAChpaCLTXtdjQODYPvBSp05IVEREcbtUgAEAQI6gNCS0sWmva7GgQHW0mK181ClZk1McrsUAEGCgA4gtGRnS/EnLCOIj28dB1yQX1ajmoZmOrgA6DECOoDQkpEh5eRIqamSMa2fc3JYfw7XnLhB1JvrlWelRxErIuRZ6ZE3lw3MAI7HJlEAoScjg0COgLH9oE9REUbTxiXIm+tV5urM9quS5vvylbk6U5JoKQigHTPoAAAMoB2HKnX62ATFRkUqa01WezhvU9NYo6w1WS5VByAQEdABABhAOw5Wti9vKfB13k2oq3EA4YmADgDAACmpqldxVX37BtGUpM67CXU1DiA8EdABABggOw61bhBta7GYvThb8dHHdxmKj45X9mK6DAE4xrWAboyJM8Z8ZIz5xBiz3RizwhmfYoz50Biz1xjzojEmxhmPde7vdR73dDjXj5zxXcaYpR3Glzlje40xPxzs9wgACG/tHVycGfSMORnKWZ6j1KRUGRmlJqUqZ3kOG0QBHMfNLi71kr5gra02xkRL+l9jzFuSvi/pcWvt740xqyTdLukp53O5tfZ0Y8yNkn4u6QZjzExJN0qaJWmipHeNMWc4r/Gfkr4oqVDSBmPM69baHYP5JgEA4WvbQZ8mDR+ipPjo9rGMORkEcgCn5NoMum1V7dyNdj6spC9IetkZf17SNc7tq537ch5fbIwxzvjvrbX11trPJe2VtMj52Gut3WetbZD0e+dYAAAGRW6hT/MmcwVRAL3j6hp0Y0ykMWaLpGJJ70j6TFKFtbbJOaRQ0iTn9iRJ+yXJedwnaVTH8ROe09V4Z3VkGmM2GmM2lpSU+OOtAQDCXEVNgwrKajRn0nC3SwEQZFwN6NbaZmttmqRktc54z3Cpjhxrbbq1Nn3MmDFulAAACDG5B3ySpLnJzKAD6J2A6OJira2Q9J6kcyUNN8a0rY1PlnTAuX1A0mRJch5PklTacfyE53Q1DgDAgNta2BrQZ08ioAPoHTe7uIwxxgx3bg9R62bOnWoN6tc5h90i6Y/O7ded+3Ie/6u11jrjNzpdXqZImibpI0kbJE1zusLEqHUj6esD/84AAJC2FlZoyuihShoS3f3BANCBm11cJkh63hgTqdZfFF6y1v7JGLND0u+NMf9H0mZJzzjHPyPpt8aYvZLK1Bq4Za3dbox5SdIOSU2S7rHWNkuSMeY7kt6WFCnpWWvt9sF7ewCAcJZb6FO6Z6TbZQAIQq4FdGvtVknzOxnfp9b16CeO10m6votzZUs66SoP1to3Jb3Z72IBAOiFkqp6HfTVsf4cQJ8ExBp0AABCSe6BCknS3GQ6uADoPQI6AAB+trXQpwgjzZo4zO1SAAQhAjoAAH6WW+jT6WMTNDTWza1eAIIVAR0AAD+y1uqTQh8XKALQZwR0AAD86HBlnY5U17NBFECfEdABhJy737hbUT+JkllhFPWTKN39xt1ul4QwsrmgdYNo2mRm0AH0DYvjAISUu9+4W09tfKr9frNtbr//5JVPulUWwsjH+eWKjYrQmRPYIAqgb5hBBxBScjbl9Goc8LePC8o1Z1KSYqL4EQugb/i/B4CQ0tx6IeEejwP+VN/UrG0HK7UgdYTbpQAIYgR0ACEl0kT2ahzwpx0HK9XQ1KL5rD8H0A8EdAAhJXNhZq/GAX/62Nkgygw6gP5gkyiAkNK2ETRnU46abbMiTaQyF2ayQRSDYnNBuSYNH6Jxw+LcLgVAECOgAwg5T175JIEcrthcUKG0FJa3AOgflrgAAOAHRZV1OlBRqwUpLG8B0D8EdAAA/ODj/HJJ0gJm0AH0EwEdAAA/2Ly/QjGREZo5kQsUAegfAjoAAH6wKb9csycNU2wULT0B9A8BHQCAfqprbNbWwgqdNWWk26UACAEEdAAA+mlzQYUam63OJqAD8AMCOgAA/fTR52UyRlqYSkAH0H8EdAAA+mlDXplmjB+mpCHRbpcCIAQQ0AEA6IfG5hZtyi/XIg/9zwH4BwEdAIB+2HbAp9rGZi2aMsrtUgCECAI6AAD9sCGvTJJ01hRm0AH4R48CujHmDGPMGmPMNuf+XGPMjwe2NAAAAt9Hn5dpyuihGpsY53YpAEJET2fQfyPpR5IaJclau1XSjQNVFAAAwaClxWpDXrnOYv05AD/qaUCPt9Z+dMJYk7+LAQB/8OZ65VnpUcSKCHlWeuTN9bpdEkLU7uIq+WobWX8OwK+ienjcEWPMaZKsJBljrpN0aMCqAoA+8uZ6lbk6UzWNNZKkfF++MldnSpIy5mS4WRpC0D8+K5UkLlAEwK96OoN+j6RfS5phjDkg6T5J3x6wqgCgj7LWZLWH8zY1jTXKWpPlUkUIZX/fW6qUkfGaPDLe7VIAhJAezaBba/dJuswYM1RShLW2amDLAoC+KfAV9Goc6Kum5hZ9uK9UX5o3we1SAISYnnZx+ZkxZri19qi1tsoYM8IY838GujgA6K2UpJRejQN9lXvAp6r6Jp132mi3SwEQYnq6xOVya21F2x1rbbmkKwamJADou+zF2YqPPn65QXx0vLIXZ7tUEULVemf9+XmnsUEUgH/1NKBHGmNi2+4YY4ZIij3F8QDgiow5GcpZnqPUpFQZGaUmpSpneQ4bROF3f997RDPGJ2pUAj8OAfhXT7u4eCWtMcb8l3P/VknPD0xJANAz3lyvstZkqcBXoJSkFGUvzlbGnIz2D2Cg1DU2a2N+ub5xTqrbpQAIQT3dJPpzY8xWSYudoZ9aa98euLIA4NRopwg3fZxfroamFp1/OstbAPhfT2fQZa19S9JbA1gLAPTYqdopEtAx0P7+2RFFRRguUARgQJwyoBtj/tdae4ExpkrORYraHpJkrbXDBrQ6AOgC7RThpr/vLdW8ycOVENvjeS4A6LFTbhK11l7gfE601g7r8JFIOAfgJtopwi1lRxv0SWGFLpxGe0UAA6PbLi7GmEhjzKeDUQwA9BTtFOGW9/eUyFrpkulj3S4FQIjqNqBba5sl7TLGMC0FIGCEcjtFb65XnpUeRayIkGelR95cr9sloYO1u0o0cmiM5k5KcrsUACGqp4vnRkjaboz5SNLRtkFr7VUDUhUA9EAotlOkO01ga2mxWre7RBdNG62ICON2OQBCVE8D+j8PaBUAAEl0pwl0uQd8Kj3awPIWAAOquy4ucZLuknS6pFxJz1hrmwajMAAIR3SnCWxrd5XIGOmiM8a4XQqAENbdGvTnJaWrNZxfLunfBrwiAAhjdKcJbGt3F2tu8nCNHBrjdikAQlh3AX2mtfbr1tpfS7pO0oWDUBMAhC260wSu8qMN2rK/Qpcwew5ggHUX0BvbbrC0BQAGXih3pwl269rbKxLQAQys7jaJzjPGVDq3jaQhzn2uJAoAAyQUu9OEgnd2FGl0QozmJg93uxQAIe6UAd1aGzlYhQAAEKjqm5q1dleJls+boEjaKwIYYN1eqAgA/IUL8CBYrf+sVNX1TVoyc7zbpQAIAz3tgw4A/cIFeBDM/rK9SENjInXuaaPcLgVAGGAGHcBxBmqW+1QX4AECWUuL1Ts7inTJ9LGKi2blJ4CBxww6gHYDOcvNBXgQrDbvr9CR6notmTXO7VIAhAlm0AG0G8hZbi7Ag2D1lx2HFRVhdMn0sW6XAiBMENABtBvIWW4uwONfbLgdHNZavbO9SOeeNkpJQ6LdLgdAmCCgA2g3kLPcXIDHf9qWIuX78mVl25ciEdL9b+ehKu07clRLZ9G9BcDgIaADaDfQs9wZczKUd1+eWh5pUd59eYTzPmLD7eBZvfWgIiOMrpgzwe1SAIQRAjqAdsxyBwc23A4Oa61Wf3JQ558+WiOHxrhdDoAwQhcXAMfhMvP94831KmtNlgp8BUpJSlH24my///dMSUpRvi+/03H4z5b9FSosr9X3Fk9zuxQAYYYZdADwk8FaG86G28Gx+pNDiomM0BLWnwMYZAR0APCTwVobzlKkgdfSYvVG7kFdPH0M3VsADDqWuAAIWoOxnKQ3BnNtOEuRBtaGvDIVVdZr+byJbpcCIAwxgw4gKHlzvbr1tVuPW05y62u3utpqkIsxhY7XthzQkOhIXXYmFycCMPgI6ACC0vfe+p4aWxqPG2tsadT33vqeSxWxNjxU1DY0a/Unh3T5nPGKj+EPzQAGHwEdQFAqrS3t1fhgYG14aPjz9kOqrm/SV9Mnu10KgDDF1AAA+BFrw4Pf/2wsVMrIeJ09ZaTbpQAIU8ygAwhKo4aM6tU40BP7y2q0/rNSXbcwWcYYt8sBEKYI6ACC0i8v/6ViIo+/umNMZIx+efkvXaoIoeDlTYUyRvrKwmS3SwEQxgjoAIJSxpwMPXv1s8et93726mdZXoI+a2mxenlToc4/bbQmDR/idjkAwhhr0AEELdZ7w5/W7SnRgYpa/eDyGW6XAiDMuTaDboyZbIx5zxizwxiz3RjzPWd8pDHmHWPMHufzCGfcGGOeMMbsNcZsNcYs6HCuW5zj9xhjbukwvtAYk+s85wnDgkIAQBd++498jU6I1bJZ490uBUCYc3OJS5Ok/89aO1PSOZLuMcbMlPRDSWustdMkrXHuS9LlkqY5H5mSnpJaA72kRySdLWmRpEfaQr1zzJ0dnrdsEN4XACDI7C+r0V93FeumRZMVE8XqTwDucu3/QtbaQ9baj53bVZJ2Spok6WpJzzuHPS/pGuf21ZJesK0+kDTcGDNB0lJJ71hry6y15ZLekbTMeWyYtfYDa62V9EKHcwEA0O6/P8yXkXTTIq762hveXK88Kz2KWBEhz0qPq1fyBUJJQKxBN8Z4JM2X9KGkcdbaQ85DhyWNc25PkrS/w9MKnbFTjRd2Mt7Z62eqdVZeKSn8zxkAwkldY7Ne2rBfX5w5ThPZHNpj3lyvMldnqqaxRpKU78tX5upMSWJvCNBPrv8dzxiTIOkPku6z1lZ2fMyZ+bYDXYO1Nsdam26tTR8zZsxAvxwAIIC8/slBldc06uZzPW6XElSy1mS1h/M2NY01ylqT5VJFQOhwNaAbY6LVGs691tpXnOEiZ3mKnM/FzvgBSR2vu5zsjJ1qPLmTcQAAJLW2VvzNun2aMT5R553GRa56o8BX0KtxAD3nZhcXI+kZSTuttf/e4aHXJbV1YrlF0h87jN/sdHM5R5LPWQrztqQlxpgRzubQJZLedh6rNMac47zWzR3OBQCA3ttVrD3F1frWxVO5cmgvpSR1viS0q3EAPefmDPr5kr4h6QvGmC3OxxWS/kXSF40xeyRd5tyXpDcl7ZO0V9JvJN0tSdbaMkk/lbTB+fiJMybnmKed53wm6a3BeGMAgFMLlM2Fv163TxOT4vSluRNdef1glr04W/HR8ceNxUfHK3txtksVAaHDtU2i1tr/ldTVdMXiTo63ku7p4lzPSnq2k/GNkmb3o0wA3fDmepW1JksFvgKlJKUoe3E2G8RwSqfcXLhVUlaWVFAgpaRI2dlSxsB8P20uKNdHn5fpx1eeqehI17dkBZ22f+f8+wf8z7TmXrRJT0+3GzdudLsMICicGLSk1hm0nOU5/JBGlzwrPcr35Z80nho1Snk/q5VqOmw8jI+XcnIGJKTf+cJGfbivVOt/tFgJsQHR1AxAmDHGbLLWpp84zpQBgD6jiwP6osvNhY2lx4dzqfV+lv+/n3ILfXpnR5Fuv2Aq4RxAwCGgA+gzujigL7rcXOjr4gkF/v9+WvnubiUNidatF3j8fm4A6C8COoA+o4sD+uKKaVd0Pn5wqLxzJM99UsQjrZ+9c9S6Ft2Ptuyv0JpPi5V50VQNi4v267kBwB8I6Ag4gdLdAd1zo4sD3x/B780tL3U6/tKMZmVeJeUPl6xp/Zx5leT9QeeBvq/+/Z3dGhEfrVvO8/j1vADgLwR0BJS2TYf5vnxZ2fbuDoSwwJQxJ0M5y3OUmpQqI6PUpNQB3SAa7t8fofLLSUFjaafjpaZONSdMaNdES1n1b/rttd/fU6J1u0v07UtOY+05gIBFF5cT0MXFXV12d0hKVd59eYNfEAJKOH9/hFLHnNEPGZUO7eQBq06b7xoZtTzS0u/XbW6xuvKJ93W0oUnvfv9ixUZF9vucANAfdHFBUGDTYatQmSn1t3D+/gipjjmRnV8Cw3QxX+SvPQ0vbdyvTw9X6UeXn0k4BxDQCOgIKGw6ZBnHqYTz90co/XJSFtd5ErcRGrA9DVV1jfq3v+xSeuoIXT57fL/PBwADiYCOgMKlo4NvptQfs/09PUc4f3+E0i8nKUmpnY637WEYiD0Nv3h7l0qPNuifvzRTxnR1EWsACAwEdASUwd50GIiCaabUH7P9vTlHOH9/hNIvJ6d6LxlzMpR3X55aHmlR3n15fvnabi4o1wsf5Osb56Rq3uTh/T4fAAw0NomegE2icFswbYTsT63eXK+y1mR1+vyensNNTc0tOtrQrNqGZh1taJIkRRqjyIjWj4S4KCXGRvl1trbtv1mBr0ApSSntgTYYDdZ7aWxu0fJf/a/Kaxr07vcvViJ9zwEEkK42idJjCggw2YuzO+3WEYgzpX2d7e+sI0lvzzHQahqa9FnxUe0prtLe4modqKjVYV+diqvqVVRZp5qG5m7PERlhNCwuSsPjYzR+WJySRwxR8oh4JY8YotPHJuiMcYkaEtPzzYoZczKCNpCfaLDeS866ffr0cJVWfX0B4RxA0CCgAwGmLbQEw0xpSlJKpzPg3a2L7mydfW/P4U+NzS369FCVNu8v18f55dq8v0L5pcfqi4owmjA8TuMS4zRz4jBdOn2shsdHKz4mUvExUYqPiZQxrW382j6q65tUUdMoX22jymoadNhXp3V7SlRUWd9+XmOkKaOGavr4RM2elKT01BGaN3m44qJDv8PIYMyg5xb69Pg7u3XlnAlaOouNoQCCBwEdQJ/1dba/u9nxwfiLwf6yGq3d3XrRmvV7j+ioMyM+NjFWC1JG6LoFyZo2LkGnj01U6qh4RUf6Z8tOXWOzDlTUak9RlT49XKVPD1Vp56FKvbXtsCQpOtJo1sQkLZoyUhdNG6N0z4iQC+wn/gWlbd+BJL+F9NqGZn3vxc0anRCr7C/PZmMogKDCGvQTsAYdbvPmenXra7eqsaWxfSw6Ilr/dc1/9Sq8DNYa3968TnfrzqXWtecDVevuoir9aeshvbH1oD4rOSpJSh4xRBedMUbnTB2lBSnDNWn4EFfCXPnRBm3KL9fG/HJtyi/TJ/t9amhuUVx0hM6ZOkoXnzFGl505TpNHxnd/sgA3GPssfvRKrv7vRwX63R1n67zTR/vlnADgb12tQSegn4CADreN/tfRKq09+VLoo4aM0pGHjvToHIF41cnu1p0PVH2F5TX6w6YD+tPWg9pTXK0II509ZZS+OHOcLp4+RlNHDw3I2dWahiZ9sK9Uf9tVonV7jujzI62/UMyaOEyXzx6vZbMn6PSxCS5X2TcRKyJkdfLPHn9dMfTFDQX6wR9yddfFp+mHl8/o9/kAYKAQ0HuIgA63mRVdh8X/vva/ezRbHYidYLqqSfL/rHlDU4ve3Vmk32/Yr/f3lEiSFnlG6ktzJ2jZ7Akakxjrl9cZTPmlR/X29sN6a9thbS6okCRNG5ugK+dO0LXzk5UyKnhm1gfy+3PL/gp9ddU/dPbUkXru1kWKjAi8X74AoA0BvYcI6HDbqQJ6fHR8j2bFB3qGsiunWu4yGDUVV9Xpt//I1//9qEBHqhs0MSlO16dP1lfPmqxJw4f45TUCwSFfrd7edlhvbjusjz4vkySlp47QlxdM0pfmTFRS/MB2K+nv8qlO/8LTZJTzR6uMylQpO1vK6P0vawcranXtk+sVHWX0+j0XaMTQmF6fo/OCvVJWllRQIKWk9Lk+ADgRAb2HCOhw26kCemc6m3V0Ywa9u2U1nuzRym86eelOatQo5WX1bOlOV3YXVenp9/fptc0H1djSosUzxinjnBRdNG1MyM+gHqio1WubD+jVzQe0t7haMZER+sKMsbpuYbIumT5GUX7a3NrGX8unjoX8fKX4jLLftcrIbTthvJST06sQXH60QdetWq/iynq9dNe5OnPCsB4/99SFeqXMTKmmw9KsPtQHAJ0hoPcQAR1u62oNelc6m4H2PnW3Mg88pZoOE6nxjVLOpG8r49tP+qvU43T3S4H30tHKPK9UNR0mNeMbpJz1o5TxXt8C+uaCcv1yzR6t3VWiuOgIXbcwWbdfMFVTRg/t69sIWtZabTtQqVc2F2r1Jwd1pLpB44bF6vqFk3XDWZP9trnU77/8eTxSfidLn1JTpbyene9ofZO+/syH2n6wUr+9bZHOnjqq93UMYH0A0BUCeg8R0OE2b65Xt/3xNjU0N7SPxUTGKDEmsdPg3mkw8njkHZavrMVSQZKU4pOy16h1+cAAhYpul7BERMg7255c0zYjtfRuicsn+yv0+Lu7tXZXiUYOjdGt53n09XNS/bekIcg1Nrdozc5ivbihQH/bXaIWK104bbRuOGuyvjhznGKj+t620e9LlSIipM5+DpmefV9U1jXq1v/aoM0F5XoyY6GWzfZzv/N+1gcAp8KVRIEg0dWFiiT1vOd4QYEyrI4tGWhjBu7qnN1etCglRRm5+SfXlNrzCxJtO9B64Zk1nxZreHy0Hlo2Xbec69HQWP5X1lF0ZISWzR6vZbPH62BFrf5nY6Fe2rhf3/ndZo0cGqNr50/SjYsm6/Sxib0+d18vTtX1CVO6+GWy+/OVHW3Qzc9+qF2Hq/SfX1vg/3Du1NfpDHrK4F1IC0D44acaEIBOdRn0Hm3OcyFUdHvRoiuukJ566uQnXnFFt+c+WFGrX7y9S69sPqCkIdF6YMkZuuU8D5du74GJw4foe5dN03e+cLre31OiFzfs13Pr8/T0/36u9NQR+upZk3XlnAk9/iWnrxen6or3B1cctxwrf7iUeZWkSVfoVCu89xRV6Y4XNuqQr04530jXpTPG9un1u5Wd3fka9OyBvZAWgPDGEpcTsMQFIcGljW2n7O7Rh7W81fVNemrtXj39/ueykm6/YIq+fclpGkYw75eSqnq98nGhXtywX/uOHFV8TKSunDNB16dP1lmeEd32he/q6+x96m5l7ctRwdBmpRyNVPbUzG73PPRlTfs7O4p0/4tbFBcdqV9/Y4EWpo7s8XvvE7q4ABggrEHvIQI6AoFfrgIaaKGiF2t5m1usXtywX//+zi4dqW7Q1WkT9eDS6UoeETy9vqXBu5prX1lrtTG/XP+zcb/e2HpIRxua5RkVr+vTJ+vaBZM0IannrSn7ujG5N2vaaxqalP3GTnk/LNDsScOU8410TQyh9pkAwg8BvYcI6HBbIF4F9FR6HEJ7OIOeW+jTj1/L1SeFPp3lGaGsK2cqbfLwAat/oATb1/FofZPe2nZY/7Nxvz78vEwRRrpg2hh9ef5EXXbmuG6XE3kejFJ+QvNJ46nVkcp7rKnr5/VwBv29T4u1e6P0rwAAIABJREFUYvV25ZfV6M4Lp+r7XzxDcdF93+wKAIGAgN5DBHS4LRCvAtqVXoXQbpbd+Goa9Yu/7NJ/f5iv0Qmx+vGVZ+qqeRO7XW4RqILp63ii/NKjenlTof6wqVAHfXWKiYzQRWeM0ZVzx3cZ1iMeNbKdfKmMlVoe7frnTHffQ9sO+PTY27v0t90lmjp6qH527Ryd4882igDgIgJ6DxHQ4Ta3rgLaF70OoZ0su7Ff+5pe+fiA/v+3drZ25TjXo+8vOSPo15kH09exKy0tVpv3l+uNrYf1Zu6h/9fenYdHWd39H/+cmSSQYQkEEAVMooJaFDdwK+7YqrQUa2urjZVq21hAxdrf81ibVqo2fWqXR7AVfKJFUUetdUcRqtS9buAWUFnEJIIgIZEESMgyc35/zAQmydzJzGSSuZO8X9flleRkcueQ3J1+5uR7vkdba0Jh/cSDs3X6oSN0+qEjNHa/gTLGJLyCLrX9K8xNZxZpdMbZuvu1Ur26YbsG9U/TnCnjdOnJecpIS+7BSwCQSgT0GBHQkWo9aeW1vVNP7dyOn1s+q6rVLx/7QK9tqNSxOUN08/QjdeTorGROMWV60u8xFs1hfWnJVr20rkIbtu2SJI3K6q/jD8pWoOw53Vdzl2rSP5VMKJDHczjWzj2NemNjlV5eV6GlJVtUubtBIwb10+WTD1L+STk9/gUbAERDH3Sgh0h2G7uu5DEeBW3b1WCPaX+VMxi0uvf1Ut2ybK28HqPfnX+kfnBCjjyenlnOEk1P+j3GwuMxmpibrYm52fqNpM076vTyugq9sr5Cb31apS3VR2iobtXQpiY1erYoPbhFkwcPV/VXztODb5VrSGa6jDGy1qoxaFW5q17bd9WrdHutPtpao9LtuxW0Uv90j848bD9dcNwYnX7oCFbMAfRJBHTAZZwOKnLjxsJo4by9cUn6pGKXrnvkA60s+1KnHzpCv79ggkb3wk4cqfg9dmfXmNFDMnXxCTm6+IRQb/0t1XV6r3yHVn9erU+3j9HGit16p7JWry1b63gNr8do9JBMfeWAQZp21CideHC2JuYO7dRJpwDQG1Di0golLkDs4ilxaQoEdecrn+rW59epf5pHN0w7Qt85bnSP3QTqNm7tGrOnMaAvaxu0o7ZR1oa6baZ5jLIH9NOQzPRe9VcTAIgXJS4Akm5Y5jBV1lVGHY+0sWKXfv7w+3r/sx0654iRunn6kdpvcP/ummafULiisEU4l6TaxloVrihMaUDvn+7VAVmZcfVUB4C+juI+AAmbf958ZXgzWoxleDM0/7z5kkIH4dz/Rpm+cdurKt2+W7ddfKzuuGQi4bwLlFeXxzUeE78/1L/e4wm99fsTvxYAIGasoANIWHt11tt27tF1j3ygF9ZW6JSxw/XnC4/W/lkE866Sk5atsqa2f83ISctO7IKt+9aXlYU+ljjmHgC6GDXorVCDDnTe8jVbdf1jJdpd36Trzztcl56cR61xF/OfOVwFX61UbcQfNHwNUvF/hin/he3xXzDGk18BAImjBh1Al9u5p1E3LflQ/1y1SUeMGqx53z9G40YOSvW0+oT8l6qkSqlwilSeJeVUS0UrpPzVVYldsNyhNMZpHACQNAR0oA/ojvZ775Z/qasfelebv6zT7DMP0Zwph9LDujvl5Ci/pEz5Ja3Gc3MSvl7UFfScBK8HAIgZ/++JrsdGs7j5S/zKm5cnz40e5c3Lk78k8Z9Zc/u9suoyWVmVVZepYElBp64ZKRi0+r+XPtGFd7yuYFD6xxUn67/OOZxw3t2KiiSfr+WYzxcad8P1AAAx4/9B0bWaN5qVlUnW7ttoRkh3lKxA3RzyL3nsEsf2e521fVe9fnTP2/qfZz/W2V8ZqaVXn6rj8xLclIjOyc+XiotDNeLGhN4WFye+oTPZ1wMAxIxNoq2wSTTJ2GgWt7x5eSqrbvszy83KVek1pTFdI9qhNa0ZGQXnOp/42ZHXNmzXNf94T9V1jfrNN8frkhNz9MDqB3rECaiIzaxnZql4VbECNiCv8apgYoEWfGNBqqcFAL2G0yZRVtDRtdhoFrdk9LOOdmhNazlZidUSNwWC+tPyj3XJ39/U4P5penL2ZP3wpFw9sPqBDlf+k1m6g64165lZWrhyoQI2IEkK2IAWrlyoWc/MSvHMAKD3I6CjazltKGOjmSOn4BxPoO4ozPvSfSqaEn8t8eYddfp+8Ru6/YVPdOHEMVpy1Sl6Z/uSmEppuroWHslVvKo4rnEAQPIQ0NG12GgWt6IpRUr3pLcYS/ekxxWo2wvzuVm5Kp5WHHfpybLVW3XevJe1dutOzb/oGP3xu0fr8bX/2Bu6nTS/WGjvKHq4T/PKeazjAIDkIaCja7HRLCHGmHY/7kjRlCL50lu+MPKl+3T/Bfer9JrSuML5nsaAfvPEav3s/lXKHTZAT191iqYfM1pSfKU0XXIUPVpIZgmR13jjGgcAJA8BHV0vPz+0ITQYDL0lnLercEWhGgINLcYaAg1xrTTnT8jXjKNn7A1TXuPVjKNnxL1qvmHbLp1/+2u6740y/eSUg/TozK8qb/iAvZ+Pp5QmGaU7cJbsEqKCiQVxjQMAkoeADrhMMlaa/SV+LX5/cYsNfovfXxxzWLPW6p8rP9O0v76qbTvrtehHk/Trb45v09s8nlKaon5T5Wts+RhfY2gcnZfsEqIF31igmZNmtniRN3PSTLq4AEA3oM1iK7RZRKolo81iZ66xq75Jv368RE+897lOOjhb875/rPbP6h/1sdHaOfrSfdFr3PPy5B9c1vYo+hpabiaDudG5DMrO5XkeANzIqc1iWiomA8BZ0ZSiqKE3nk2iia7Cr95crSsfeEflVbW69muHavaZY+X1OAe/5hAeU+/z8nLlW7U9it5Qg54MXnkUUNu+9l7+UAoAPQ4BHXCZ9kKvv8QfUxjOycqJuoLuVJJirdU9/ynV/yz9WNkDMvRQwck64aDYTgTNn5AfW217Tk70Q6touZkUARuUoryWCtjED6MCAKQGSytAEiT7AJ78CfkqvaZUwbnBvV1X4tkE6NTFJdoq/Je7G/TTe1fpxiUf6rRDh+vZOafGHM7jQsvNLpVbHd84AMC9COhAJ3XXATzxbALMn5Cv4mnFys3KlZFx7H3+dmmVpt72il5at003fHO87rx0koYOyIhrXjG/OKHlZpcqem+YfC2b/8jXEBoHAPQsbBJthU2iiFcyNnXGwnOjR1Zt//dqZBScG18ZQyBoteCFDbr1+XU6MNunv118nCaMyYp7TnFtEkXX8vvlv/UyFZ7auG8T7ivpyv/53bwIAgCXctokygo60EnddQBPvH3EnVa2t9Xs0Q///qb+8tw6TTt6lJ6+6pSEwrnE6aCukp+v/J/frdLHcxW8yaj08VzCOQD0UGwSBTop3g2ZiZo6bqoWrlwYdby11ivbzWU36z5P09NvZWt3Q5P++J2jdOGkMXGfUhop2r+7eTxvXp5zRxd0jfx8AjkA9AKsoAOd1N6GzGRuHl26fmnM421Wtq1XGbXf0+IXBmr4wH56+qpT9L3jD+xUOJfaP/Y9nlr8ZG+yBQCgJyOgA53ktCFTUlI3j8ZTShM5lhYcpf3r/6Sspu9qp/dZPXnlZI3db1BCc2it+aRSJ7GUu3TXJlsAAHoKNom2wiZRJEuyN4/Gc728eXkq21GmgYFzNLTxp7JqUGXGX7Vf9udJ3bjqNKdIHW1i7a5NtgAAuA2bRIE4dbbsor0V70SuHU9v819N/r32b7pBwxqvUr3nI23pf5VM//fjOo00FtHm1FpHtfjdtckWAICegoAORJGMsgunYJqdmZ3QtWPtbf7yugrd9a/95AseLw16VBUZczVmyMAuaX0YOScn0TaxRspJi34oktM4AAC9HQEdiCIZ7QOdgml9oD7ha0c7YbTZnsaAblryoS5d9JayMtM189yd0oB/S6Zry9ia5+QU0p02tzYrel7RD9h5PlkzBACgZyGgIyG9vetGMsounILproZdnb52a6s3V+v821/Totc+1YyTc5V/5ibNffUn3brxMtGfWf5LVSpeIuXuCL2WyN0hFS8JjQMA0BfRBx1xc+qxLSmpJRT+Er8KVxSqvLpcOVk53dpTOxm9zeMN3ImUdDQ0BXX7Cxt0+wsblD0gQ3f/6Hidefh+ypv3TcdV+q76GSb8M8vJUX5JmfJLWo3nJrePPAAAPQUr6Ihbd5wemerWe0VTiuQzGS3GfCYjrk2WTsF02B6TlJKODz+v0fm3v6b5K9Zr2tGj9K+fn6YzD99PUmo2XsazibXlFxZJvlYbTX2+0DgAAH0QAR1x647wl+oj5PM/kIqfsi3LLp6yyv8g9ms4Bdb5z9hOlXQ0BoK6bcV6Tb/9VW3bWa/iH07Urd8/RkN8+15QOL04SPbpppFi3cTa9gvzpeJiKTdXMib0triYEzEBAH0WfdBboQ96x7qjb7XnRo+s2t6bHfXUTpq8PKksSn/vYcOkgQOl8nIpJye0yttOkIxapjOtMPq1c3Ol0tJ2p/XRlhr91yPva/XmGn3r6FG68VtHaOiAfcG8+fuVVZfJyLT4GfrSfV3SyQUAACTGqQ86NeiIW9GUohY16FKMpQxxSEYNeKeUl8s/QSqcIpVnSTnVUtEKKb+kUqqsDD2mrEwqCNXeO4X0/An5bQNxkUJfVxvxFwKfT/7rpqpwXl7Umvu6hoDmr1ivu17ZqKzMdC3MP07nTTigxWVb7w2wsntDem5WbrfW8AMAgMSltMTFGLPIGLPNGLM6YizbGPOcMWZ9+O3Q8LgxxtxmjNlgjPnAGHNcxNfMCD9+vTFmRsT4RGNMSfhrbjPGmO79F/ZOCZcyxCHheuYk8Z+erYJpUtkQyZrQ24Jpkn9CqwfW1kqFcZbdRCnp8P95hgq+XBy15v7ldRX6+ryXdMdLn+jbx47W89ee3iacS9HLgprDeeuWjAAAwL1SXYN+j6RzW439UtIKa+04SSvCH0vSeZLGhf8rkLRQCgV6SXMlnSjpBElzm0N9+DE/jfi61t8LCWqvH3eyrt/VLwLaU3i2VNtyj6hqM0Ir6m2UO9feO7Wj9B8l5V0jeeaG3s7Z+XCbcL2nIV2Fj67XpYveUrrHowd/epL+dOHRLUpaWkwjkb0Bfn+onMfjCb31p6hd5qxZUlpa6AVLWlroYwAA+qiUlrhYa182xuS1Gp4u6Yzw+4slvSjpuvD4vTZUNP+GMWaIMeaA8GOfs9ZWSZIx5jlJ5xpjXpQ02Fr7Rnj8XknnS3q26/5FSKao5SHdpLwp+obN8qwogznRy26c2lG+Vv6aFr+/uMV4C9ajgYFzNaTxh7LqrzlTxmnWGYeof7q33TlnZ2arsq4y6nj0CfpbltrEULLTJWbNkhYu3PdxILDv4wULum8eAAC4RKpX0KMZaa3dEn5/q6SR4fdHS/os4nGbwmPtjW+KMt6GMabAGLPSGLOyoqKi8/8C9HiOXVBqWlVJtdMO0KkTTfGq4jbjzfoFJuiA+vka1jhLjZ6N+qL/Nbr2a4d2GM4TUljYsg5eSqxkp7OKi+Wf0PIvCv4JoXEAAPoiNwb0vcKr5V3eZsZaW2ytnWStnTRixIiu/nZ9Tk88ddSxBn7cz2JuB+hUWhKwgTZj3uAIDW+4Tvs3/I88GqCKjN/ri4xC1ZuWq+vt/Syr6qKv+juNO5bmtFOyE6t4fuf+8YHo9f7j2/6cAADoC9zYxeULY8wB1tot4RKWbeHxzZIOjHjcmPDYZu0riWkefzE8PibK49GNuuvU0WRrnlvUk0xnxnYNp040XuPdG9KNzdTgpm9rcNMFkox2pPlVk/aYrKmXFGpd2ayjn2XcnW9ycqK3e3Qo2YlVvL/zwinO9f7uvUMAAOg6blxBf0pScyeWGZKejBi/NNzN5SRJ1eFSmOWSvm6MGRreHPp1ScvDn6sxxpwU7t5yacS10E3aO3DINSvrDhslO7sR1mkVvmBigXxpgzWoaZpG77lLQ5p+oPq0VarIvErV6Q/uDeetu9Z0dHhT3J1viorkn5jesrRkYnqnT/CM95CpqHX97YwDANDbpXQF3RjzoEKr38ONMZsU6sbyB0kPG2N+LKlM0vfCD18qaaqkDZJqJV0mSdbaKmPMzZLeDj/upuYNo5JmKdQpJlOhzaFsEO1mTmUezauqKV9Z78KNktFW4W8+q0gDA6fr9XfO1ZeNXu3xvC/v0GX633OvkPTH6Cv2YR11aWl31T/aP/0oqeBbRrXhIrKyIaGPdVTnVq6jreK3N+7LGKDdjbujjgMA0BdxkmgrnCSaXE6njkaWeURK5mmkMXE6MdThVM+oJ4PG8IIiELRaWrJFf/v3Bq39YqeOGDVY1517uE4dN1yxtudP9gmuXXUibNpNadHr7I1XTTc0tR2/yaugbXs6rMd4FLiBOnQAQO/ldJKoG0tc0Is4lV1EC3BSBz27u0I7GyVbl+DMemaWLnvishaHCV32xGXyl/g165lZSrspTeZGo7Sb0jTrmVAf76ZAUI+u2qSv3fqSrnrwXQWt1W0XH6sl2eU67evHy3i9MfcfL5pSpHRPeouxdE96woc3JdQ3PQZOv1un8WjhvL1xAAB6OwI62tfJg2ycDhyK3PwYyXFDY1dx6mF+erYKlhS0COMLVy5UY7CxxeMag426/InLtXDlwr0BNGADuuPtRfrGXX/QWX95Sb/45/vql+bVgvzjtPya0/St1S/Ic0VBaOXe2n1lNTH8bFuvtnfmcFzHVpKd/B04/W6dxr0megtJp3EAAHo7AjqcNddnJxAkI0XbbBn3hsauUlQU6mXeYiK+0EmiDr3KW2sINux93xscriGNMzR6zz1as2GChvrSdeelk7T06lM0dcIB8nhMwv3HC1cUqiHQ0GKsIdDguPmyI131O4j3ugUTC+IaBwCgtyOgw1kXHmTjtLLe7a0X8/NDvcxb9TZ3Okk0Kiv1Cxyp4Q3/rdH1f9fgpgu0x/O+tmb8l56YPVlfGz+y5Up3gv3HO1OSEq1jTlf9DuK97oJvLNDMSTP3rph7jVczJ83Ugm9wiigAoG9yYx90uEUXHmTjKvn5bTq2ZP9xjirrKtv9Mq/N1oCmKRoY+JrS7SgFtUs1aU9op/dpBTwV8hhP9BKUBPuPx93nPKyjvuRd8aIo3utOzpmspeuXqry6XGMGj9HknMlJnxMAAD0FK+hw5hQYO3GQTfNKrrnR6JLHLmlR4335k5e7/pRRYzPlazpNI+pv0Og9d2to0wwFTZW2p/9Fm/rP0I70uxXwVEiSMtMyo1/Eoaymo/7jiZakxNuXvLs1v4CIvBcKlhS4/l4AAKCrENDhLMEg6SQyiEXTEGjQnGfnJHTtZKuq21fiYmx/+ZpO1fD66zVmz/0a0fjfyggerJq0R3Xtt2r0Rb/rtTvthb0HDDVzrGF3KKvpqO96oiUpXdWtJVnc/gICAIDuRolLD5NoH+6ENAfGwsJQWUtOTiicJ3iAT7Qg1lpHZSVdofXP9HdnFSlnwCRVVY9SZmCi+gcnyChdTarSLu9y1XpfVb3nIw3zZevqry7WTa9eFXXe2ZnZzt80SllNLBIpSUm0NKa7uP0FBAAA3Y2A3oN0VEsc7fGdDfP+o6TCa6TyaiknSyrqxCmTTivnqeQv8avgqQLVNwyUL3iGdlYcoesfrJfXzlW2pAZTrpq0JarzvKV6z4eS2debu766Ku6ONqkwNnts1J/92OyxKZhNW25/AQEAQHejxKUHiacUwF/idzxUJ1bJrg2Opa+1UeJ9vWNVXduo1z+p1F2vbFTho+s1dNftGlO/SMMbf6EBgVNVb8qkwQ/p/02vUcbIW7QjfZHqvatbhHNJ2pVupYICVTms+keWyaTSi6UvxjXe3VzTchMAAJdgBb0HcVqBjjY+59k5UQ/VmfPsnJhX0dt7QRDPSrx/4SwVbixWYEBAHeVvK7vv6zrxFwBrrap2N6i0crc+3V6r0u27te6LnfpwS402fVm393FNOlj13jWq8TyqPZ41ajRloSDeKF158n268uSLZW5sZ9K1tcrZ5VXZwLanZLplBTjekz27W/PvtNtKtwAAcDkCeg/iNd6ooSrayrRTLXc8Nd7JqA32L5ylgs0LVTswtsc3/1ucynmslc4/7PuqrmvUjtoGVeys17aaem2t2aMvwv9trdmjsspa7dzTtO+6HqPcbJ+OPnCIfnBijsYfMFjjRw3WqFsHdvgzHZY5LOrPbVj4tUvR8oAKLvK1eDHDCnB8uqrdIwAAPREBvQfp7pXQZNQGF24sbhnOrUceDZTHZspogDzWJ4988lifTPjtLcs+1sK33pevfpYG2oHy2IGhr6kbqF8/MEi/1vKo3yugag0ZYHTc6EN07IFDlTd8gA4a7lPesAEaM9SnjLS2FV2x/Eznnzdflz1xWYu/SKQ3SfOXhd7Pr8mVphWxAgwAAJKCgN6D5GblRg3MuVm5bcYcV30zh8X8/YqmFLVYxZacV4attarYWa/PvqzTpi9rtenLOn2+o0670/9bI+uz5LVZ8tgseTW4w+9758sbFQgeqwyzW0HtUtDsVJPZpqB2K2h26g9fu0FZmen6x0f36NlPHlKTqVTAVEmmSZuC0qkjZ+rmGE+hzHUoT8ndtW8FfW8JxlNzVN5YqZxqqWiFlF+ivW0n3bwCHM99AwAAUs9Yazt+VB8yadIku3LlylRPI6rWZR9SKDC36IXt90uFhfIPLtPl50sNEdUvGd4MLZq+KL768Sh14N85/CK999kOffh5jdZu3amPt9Zo3Re7VNfYMugO9aVrW90GBUyNAmaHgqpWwFQraHaFw3atrGoVNLUKht/+ZGK+7vjmX3XQ/IMcQ2XpNaWSpLSb0hzLU5puaGozHvXfd5TR5dOlhoiXqhlN0qInpfwPovxvI/zzTUbbye4S030DAAC6nTFmlbV2UutxVtB7kA430/n9UkGBVFu7txVi4dlG5VlWOVm5iZdd2DT1Dxwr7TxVdywfqN8+tFyNgVB4HTYgQ4ftP0gXnXCgDho+QAcO9WnM0EyNHpopX0aazI3nxPWtln/ytIz5m6aOm6qFKxe2+fzUcVP3vp+Ukp9hw2TV8i8NNjwelVP/chcHdzZhAgDQs7CC3oqbV9A7lJcnlUXp9JKbK5WWxnWp2oYmzV32mO576wNlNB0tj3yyalST9xNNOSxPPzrhFE0YPUQjBvVrf0rz8uLuf27nWsevi1xBb6+7yv0X3B9TIM0rGq6ypralQLlpw1RauD22CUe8MNrL54vpdFAAANB3sYLeF5Q7dFdxGm/FWqt3ynfonys/09MfbNGu+gFK02Ha7X1Jdd43tcfzgaxp0MtVubr38NKYrum0Eu6kuXtKZzvIxHqgU3lT9F7lTuNRFRa2DOdS6OPCQgI6AACIGwG9N8nJib6CntN+15VA0GrZ6q0qfvkTvb+pWr4Mr6ZOOEC3l1yiPZ41kmn5V5Z42ize+c6dMT9W2leeEksHGae2k5Ji7t+elFMsO/nCCAAAIBInifYmRUWh0opI4S4jLfj9Ul6egh6vnjrtO5ry2yWa/cA7qtnTpN+df6TeLjxbf77waI3M3tkmnEvxhdemYGybNZs1d5mJ5XTJeNtLRnthkZRTLJ1eAHXwwggAACAaAnpvkp8fqnvOzZWMCb1tXQcdrpf+jx2s6T/8i67+6uXq//lnWpizW89fe7ouOSlXA/qF/rBS1G+qfA0tv4WvITTe5f+UCfkqnlas3KxcGRnlZuW26ToS2QoxkjcY/ZrRXljE8n06FOsLIwAAgBiwSbSVHr1JNAZVhx6h3x16rh478iyNrt6mX7xyn85f86I8uTltN5IOHy7/qEoVTpHKs7Sv//fnw6TtsW2gbG8jpxM7N7Z70n+UUcE0qTZj35ivQZrxrrT4lLYne3ZpW0EXd3EBAADu5LRJlIDeSm8O6E+9/7l++/cXVdNvgGa++Yhm/+cf6h8In45pjBRstfRs2gnXMd43Q68z2pEpKfJSzV8a5fLx9DBXXp78g8vavoCoyZV/CSd7AgAAd6OLSx9W29CkuU+u0T9XbdIxtVW65cFf6bDtrTZGdlG9dE1/tQ3iRvtCeitx1ZUXFSm/oED5Ja3bG7r7ZE8AAID2UIPey23Ytkvf+ttreuSdTbrqrLF65IyhOqy2ouWDnOqlnQ7rcRqPIhhnhUtcx8/HUnMPAADQw7CC3ou9vK5Csx94R/3SPLr/xydq8tjhkg4LrWDHUi89f7502WVSY+O+sfT00HgS+NLb1onH1T1Fcj7ZEwAAoIcioPdS971eqt8u+VDj9huou2ZM0pihEV1GYg21zY/pxObHAaafdqu+7SeMlJmWqcy0TFXVVVEnDgAAEEaJSy9jrdVfV6zXb55cozMPG6FHZn61ZThvT7g/ujye0Fu/PxTGS0tDG0hLS+Nerb500CmO9eaVdZWqa6rTfRfcp9JrSgnnAAAAIqD3KtZa/WHZx/rLc+t0wXGjdcclEzWwX4x/JAn3R1dZWahDS1mZVFAg/8JZypuXJ8+NHuXNy5O/xB/XnB6ueCFqt5ZmzSd8AgAAIISAnmL+En+nAnAza61+v/Qj/d9LG3XJSTn683ePVpo3jl9vYaFUW9tiyH9IrQo+v0Nl1WWysiqrLlPBkoK45ljZz+HUoAjRTvgEAADoqwjoKeQv8atgSUGnAnCz21/YoDtf+VQzTs7VzdOPlMcTZ/uU8rYhuXCKVJvWsj6lK1a8szOzk3o9AACAnoyAnkKFKwpbdDGREgvA971eqj//a50uOHa05k47Qqa9A4acROmDXp4V/aHxrHgPq4t/KgAAAH0ZAT2FnIJuPAF4xUdf6Ian1ujsr4zULd89Kv6V82ZFRaF+6BFyaqJfKycr9kON5j8rpXdwMGhVXVXM1wMAAOjtCOgp5BR0Yw3Aa7fu1NUPvqsjR2Xprxcfq/R4as5bi3LoT9EVk5oZAAALfklEQVS4n8mX3jK0x9urPL8mV3c/KeXukGM3l3gCPwAAQG9HQE+hoilFCQfgyl31+vHitzWgX5ruvHSSMjO8nZ9Qq5aK+TMXqHhasXKzcmVklJuVq+JpxfG1QywqUv4nPpXOk+5/TPI1tPx0QocTAQAA9GIcVJRCzUG3cEWhyqvLYz6sJxC0mvPQe9q2s14PX3Gy9s/q36Vz7FR/8ojDjvJXl0vDslV4tlTexOFEAAAA0RhrHeoO+qhJkybZlStXpnoa7frbv9frz/9apz9cMEEXnUB5CAAAQE9kjFllrZ3UepwSlx7mrU+r9L/PrdP0Y0bp+8cfmOrpAAAAIMkI6D3IjtoGXf3gu8rJ9qno2xMSa6cIAAAAV6MGvQe5ccmH2r6rXk/MnqyB/fjVAQAA9EasoPcQz334hR5/d7NmnzlWR452OEEIAAAAPR4BvQfYUdugXz1eoq8cMFizzxyb6ukAAACgC1En0QPc/PRH+nJ3g+657HhlpPGaCgAAoDcj7bncW59W6dF3NqngtIN1xChKWwAAAHo7ArqLNQWCuuHJ1Ro9JFNXnkVpCwAAQF9AQHexe18v08dbd+o33xwvXwbVSAAAAH0BAd2lKnbW69bn1un0Q0fonCNGpno6AAAA6CYEdJea9/w61TUGNHfaeA4kAgAA6EMI6C70ScUuPfT2Z/rBiTk6eMTAVE8HAAAA3YiA7kJ/WrZW/dM8unrKuFRPBQAAAN2MgO4yq8qqtGzNVl1x+iEaPrBfqqcDAACAbkZAdxFrrW5ZtlYjBvXTT049KNXTAQAAQAoQ0F3k9Y2VeuvTKs0+4xDaKgIAAPRRBHQXuW3Feu03qJ8uOiEn1VMBAABAihDQXeLNjZV6Y2OVfnb6Ieqf7k31dAAAAJAiBHSX+Ou/N2j4wH66mNVzAACAPo2A7gKryqr06obtuuK0g5WZweo5AABAX0ZAd4E9jUEdnzdU+Sexeg4AANDX0SrEBSaPHa7JY4enehoAAABwAVbQAQAAABchoAMAAAAuQkAHAAAAXISADgAAALgIAR0AAABwEQI6AAAA4CIEdAAAAMBFCOgAAACAixDQAQAAABchoAMAAAAu0usDujHmXGPMWmPMBmPML1M9HwAAAKA9vTqgG2O8km6XdJ6k8ZIuNsaMT+2sAAAAAGe9OqBLOkHSBmvtRmttg6SHJE1P8ZwAAAAAR709oI+W9FnEx5vCYy0YYwqMMSuNMSsrKiq6bXIAAABAa709oMfEWltsrZ1krZ00YsSIVE8HAAAAfVhvD+ibJR0Y8fGY8BgAAADgSr09oL8taZwx5iBjTIakiyQ9leI5AQAAAI7SUj2BrmStbTLGXClpuSSvpEXW2jUpnhYAAADgqFcHdEmy1i6VtDTV8wAAAABi0dtLXAAAAIAehYAOAAAAuAgBHQAAAHARAjoAAADgIgR0AAAAwEUI6AAAAICLENABAAAAFyGgAwAAAC5CQAcAAABchIAOAAAAuAgBHQAAAHARAjoAAADgIgR0AAAAwEUI6AAAAICLENABAAAAFyGgAwAAAC5CQAcAAABchIAOAAAAuAgBHQAAAHARAjoAAADgIgR0AAAAwEUI6AAAAICLENABAAAAFyGgAwAAAC5CQAcAAABchIAOAAAAuAgBHQAAAHARAjoAAADgIgR0AAAAwEUI6AAAAICLENABAAAAFyGgAwAAAC5CQAcAAABchIAOAAAAuAgBHQAAAHARAjoAAADgIgR0AAAAwEUI6AAAAICLENABAAAAFyGgAwAAAC5CQAcAAABchIAOAAAAuAgBHQAAAHARAjoAAADgIgR0AAAAwEUI6AAAAICLENABAAAAFyGgAwAAAC5CQAcAAABchIAOAAAAuAgBHQAAAHARAjoAAADgIgR0AAAAwEUI6AAAAICLENABAAAAFyGgAwAAAC5CQAcAAABchIAOAAAAuAgBHQAAAHARAjoAAADgIgR0AAAAwEUI6AAAAICLENABAAAAFyGgAwAAAC5CQAcAAABchIAOAAAAuAgBHQAAAHARAjoAAADgIgR0AAAAwEVSEtCNMRcaY9YYY4LGmEmtPne9MWaDMWatMeaciPFzw2MbjDG/jBg/yBjzZnj8H8aYjPB4v/DHG8Kfz+uufx8AAACQqFStoK+WdIGklyMHjTHjJV0k6QhJ50paYIzxGmO8km6XdJ6k8ZIuDj9Wkm6RdKu1dqykLyX9ODz+Y0lfhsdvDT8OAAAAcLWUBHRr7UfW2rVRPjVd0kPW2npr7aeSNkg6IfzfBmvtRmttg6SHJE03xhhJZ0l6JPz1iyWdH3GtxeH3H5E0Jfx4AAAAwLXSUj2BVkZLeiPi403hMUn6rNX4iZKGSdphrW2K8vjRzV9jrW0yxlSHH7+99Tc1xhRIKgh/uMsYE+3FQ6oMV5Q5Ax3gvkGiuHeQCO4bJIL7RsqNNthlAd0Y87yk/aN8qtBa+2RXfd9EWGuLJRWneh7RGGNWWmsndfxIYB/uGySKeweJ4L5BIrhvnHVZQLfWnp3Al22WdGDEx2PCY3IYr5Q0xBiTFl5Fj3x887U2GWPSJGWFHw8AAAC4ltvaLD4l6aJwB5aDJI2T9JaktyWNC3dsyVBoI+lT1lor6QVJ3w1//QxJT0Zca0b4/e9K+nf48QAAAIBrparN4reNMZsknSzpGWPMckmy1q6R9LCkDyUtkzTbWhsIr45fKWm5pI8kPRx+rCRdJ+laY8wGhWrM/x4e/7ukYeHxayXtbc3Yw7iy9Aaux32DRHHvIBHcN0gE940Dw6IyAAAA4B5uK3EBAAAA+jQCOgAAAOAiBHSXMcaUGmNKjDHvGWNWhseyjTHPGWPWh98OTfU8kVrGmEXGmG3GmNURY1HvExNymzFmgzHmA2PMcambOVLJ4b75rTFmc/g55z1jzNSIz10fvm/WGmPOSc2skWrGmAONMS8YYz40xqwxxswJj/OcA0ft3Dc858SAgO5OZ1prj4noDfpLSSusteMkrVDP3fCK5LlH0rmtxpzuk/MU6og0TqEDuRZ20xzhPveo7X0jSbeGn3OOsdYulSRjzHiFOmYdEf6aBcYYb7fNFG7SJOkX1trxkk6SNDt8f/Ccg/Y43TcSzzkdIqD3DNMlLQ6/v1jS+SmcC1zAWvuypKpWw073yXRJ99qQNxQ6O+CA7pkp3MThvnEyXdJD1tp6a+2nkjZIOqHLJgfXstZusda+E35/p0Ld1EaL5xy0o537xgnPOREI6O5jJf3LGLPKGFMQHhtprd0Sfn+rpJGpmRpczuk+GS3ps4jHbVL7T5Loe64MlyIsiiih475BG8aYPEnHSnpTPOcgRq3uG4nnnA4R0N3nFGvtcQr9iXC2Mea0yE+GD1uiNybaxX2COCyUdIikYyRtkfSX1E4HbmWMGSjpUUnXWGtrIj/Hcw6cRLlveM6JAQHdZay1m8Nvt0l6XKE/73zR/OfB8NttqZshXMzpPtks6cCIx40JjwGy1n4RPhAuKOlO7fuTMvcN9jLGpCsUsvzW2sfCwzznoF3R7huec2JDQHcRY8wAY8yg5vclfV3SaklPSZoRftgMSU+mZoZwOaf75ClJl4Y7K5wkqTriz9Lo41rVBn9boeccKXTfXGSM6WeMOUihDX9vdff8kHrGGKPQ6dwfWWv/N+JTPOfAkdN9w3NObNJSPQG0MFLS46F7WmmSHrDWLjPGvC3pYWPMjyWVSfpeCucIFzDGPCjpDEnDjTGbJM2V9AdFv0+WSpqq0IabWkmXdfuE4QoO980ZxphjFCpPKJV0hSRZa9cYYx6W9KFC3RhmW2sDqZg3Um6ypB9KKjHGvBce+5V4zkH7nO6bi3nO6ZgJlY0BAAAAcANKXAAAAAAXIaADAAAALkJABwAAAFyEgA4AAAC4CAEdAAAAcBECOgAAAOAiBHQAAADARf4/Fd2o5i/bPZsAAAAASUVORK5CYII=\n",
                "text/plain": "<Figure size 864x720 with 1 Axes>"
              }
            ],
            "_view_module": "@jupyter-widgets/output",
            "_model_module_version": "1.0.0",
            "_view_count": null,
            "_view_module_version": "1.0.0",
            "layout": "IPY_MODEL_fcc23a844c0843b3b42309ed54fff02d",
            "_model_module": "@jupyter-widgets/output"
          }
        },
        "c8df24eb60954a579324c6ce8b9f1b45": {
          "model_module": "@jupyter-widgets/controls",
          "model_name": "SliderStyleModel",
          "state": {
            "_view_name": "StyleView",
            "handle_color": null,
            "_model_name": "SliderStyleModel",
            "description_width": "",
            "_view_module": "@jupyter-widgets/base",
            "_model_module_version": "1.5.0",
            "_view_count": null,
            "_view_module_version": "1.2.0",
            "_model_module": "@jupyter-widgets/controls"
          }
        },
        "e29af5f575544a8c9af4c4fbee51f051": {
          "model_module": "@jupyter-widgets/base",
          "model_name": "LayoutModel",
          "state": {
            "_view_name": "LayoutView",
            "grid_template_rows": null,
            "right": null,
            "justify_content": null,
            "_view_module": "@jupyter-widgets/base",
            "overflow": null,
            "_model_module_version": "1.2.0",
            "_view_count": null,
            "flex_flow": null,
            "width": null,
            "min_width": null,
            "border": null,
            "align_items": null,
            "bottom": null,
            "_model_module": "@jupyter-widgets/base",
            "top": null,
            "grid_column": null,
            "overflow_y": null,
            "overflow_x": null,
            "grid_auto_flow": null,
            "grid_area": null,
            "grid_template_columns": null,
            "flex": null,
            "_model_name": "LayoutModel",
            "justify_items": null,
            "grid_row": null,
            "max_height": null,
            "align_content": null,
            "visibility": null,
            "align_self": null,
            "height": null,
            "min_height": null,
            "padding": null,
            "grid_auto_rows": null,
            "grid_gap": null,
            "max_width": null,
            "order": null,
            "_view_module_version": "1.2.0",
            "grid_template_areas": null,
            "object_position": null,
            "object_fit": null,
            "grid_auto_columns": null,
            "margin": null,
            "display": null,
            "left": null
          }
        },
        "2606713b03dd498da9dd423359b6f305": {
          "model_module": "@jupyter-widgets/controls",
          "model_name": "SliderStyleModel",
          "state": {
            "_view_name": "StyleView",
            "handle_color": null,
            "_model_name": "SliderStyleModel",
            "description_width": "",
            "_view_module": "@jupyter-widgets/base",
            "_model_module_version": "1.5.0",
            "_view_count": null,
            "_view_module_version": "1.2.0",
            "_model_module": "@jupyter-widgets/controls"
          }
        },
        "50ca43d0316c4865b67dddef65c54c7d": {
          "model_module": "@jupyter-widgets/base",
          "model_name": "LayoutModel",
          "state": {
            "_view_name": "LayoutView",
            "grid_template_rows": null,
            "right": null,
            "justify_content": null,
            "_view_module": "@jupyter-widgets/base",
            "overflow": null,
            "_model_module_version": "1.2.0",
            "_view_count": null,
            "flex_flow": null,
            "width": null,
            "min_width": null,
            "border": null,
            "align_items": null,
            "bottom": null,
            "_model_module": "@jupyter-widgets/base",
            "top": null,
            "grid_column": null,
            "overflow_y": null,
            "overflow_x": null,
            "grid_auto_flow": null,
            "grid_area": null,
            "grid_template_columns": null,
            "flex": null,
            "_model_name": "LayoutModel",
            "justify_items": null,
            "grid_row": null,
            "max_height": null,
            "align_content": null,
            "visibility": null,
            "align_self": null,
            "height": null,
            "min_height": null,
            "padding": null,
            "grid_auto_rows": null,
            "grid_gap": null,
            "max_width": null,
            "order": null,
            "_view_module_version": "1.2.0",
            "grid_template_areas": null,
            "object_position": null,
            "object_fit": null,
            "grid_auto_columns": null,
            "margin": null,
            "display": null,
            "left": null
          }
        },
        "fcc23a844c0843b3b42309ed54fff02d": {
          "model_module": "@jupyter-widgets/base",
          "model_name": "LayoutModel",
          "state": {
            "_view_name": "LayoutView",
            "grid_template_rows": null,
            "right": null,
            "justify_content": null,
            "_view_module": "@jupyter-widgets/base",
            "overflow": null,
            "_model_module_version": "1.2.0",
            "_view_count": null,
            "flex_flow": null,
            "width": null,
            "min_width": null,
            "border": null,
            "align_items": null,
            "bottom": null,
            "_model_module": "@jupyter-widgets/base",
            "top": null,
            "grid_column": null,
            "overflow_y": null,
            "overflow_x": null,
            "grid_auto_flow": null,
            "grid_area": null,
            "grid_template_columns": null,
            "flex": null,
            "_model_name": "LayoutModel",
            "justify_items": null,
            "grid_row": null,
            "max_height": null,
            "align_content": null,
            "visibility": null,
            "align_self": null,
            "height": null,
            "min_height": null,
            "padding": null,
            "grid_auto_rows": null,
            "grid_gap": null,
            "max_width": null,
            "order": null,
            "_view_module_version": "1.2.0",
            "grid_template_areas": null,
            "object_position": null,
            "object_fit": null,
            "grid_auto_columns": null,
            "margin": null,
            "display": null,
            "left": null
          }
        }
      }
    }
  },
  "cells": [
    {
      "cell_type": "markdown",
      "metadata": {
        "id": "xEeMSHvME41K",
        "colab_type": "text"
      },
      "source": [
        "<div class=\"alert alert-block alert-info\" style=\"margin-top: 20px\">\n",
        "    <a href=\"https://cocl.us/corsera_da0101en_notebook_top\">\n",
        "         <img src=\"https://s3-api.us-geo.objectstorage.softlayer.net/cf-courses-data/CognitiveClass/DA0101EN/Images/TopAd.png\" width=\"750\" align=\"center\">\n",
        "    </a>\n",
        "</div>\n"
      ]
    },
    {
      "cell_type": "markdown",
      "metadata": {
        "id": "rlQw7UKME41L",
        "colab_type": "text"
      },
      "source": [
        "<a href=\"https://www.bigdatauniversity.com\"><img src=\"https://s3-api.us-geo.objectstorage.softlayer.net/cf-courses-data/CognitiveClass/DA0101EN/Images/CCLog.png\" width=300, align=\"center\"></a>\n",
        "\n",
        "<h1 align=center><font size=5>Data Analysis with Python</font></h1>"
      ]
    },
    {
      "cell_type": "markdown",
      "metadata": {
        "id": "xGpxs1Z_E41S",
        "colab_type": "text"
      },
      "source": [
        "<h1>Module 5: Model Evaluation and Refinement</h1>\n",
        "\n",
        "We have built models and made predictions of vehicle prices. Now we will determine how accurate these predictions are. "
      ]
    },
    {
      "cell_type": "markdown",
      "metadata": {
        "id": "AV1iQQpKE41T",
        "colab_type": "text"
      },
      "source": [
        "<h1>Table of content</h1>\n",
        "<ul>\n",
        "    <li><a href=\"#ref1\">Model Evaluation </a></li>\n",
        "    <li><a href=\"#ref2\">Over-fitting, Under-fitting and Model Selection </a></li>\n",
        "    <li><a href=\"#ref3\">Ridge Regression </a></li>\n",
        "    <li><a href=\"#ref4\">Grid Search</a></li>\n",
        "</ul>"
      ]
    },
    {
      "cell_type": "markdown",
      "metadata": {
        "id": "XA9PJL32E41V",
        "colab_type": "text"
      },
      "source": [
        "This dataset was hosted on IBM Cloud object click <a href=\"https://cocl.us/DA101EN_object_storage\">HERE</a> for free storage."
      ]
    },
    {
      "cell_type": "code",
      "metadata": {
        "id": "e6-1U1ZRE41W",
        "colab_type": "code",
        "colab": {}
      },
      "source": [
        "import pandas as pd\n",
        "import numpy as np\n",
        "\n",
        "# Import clean data \n",
        "path = 'https://s3-api.us-geo.objectstorage.softlayer.net/cf-courses-data/CognitiveClass/DA0101EN/module_5_auto.csv'\n",
        "df = pd.read_csv(path)"
      ],
      "execution_count": 0,
      "outputs": []
    },
    {
      "cell_type": "code",
      "metadata": {
        "id": "zm-fbC3ME41b",
        "colab_type": "code",
        "colab": {}
      },
      "source": [
        "df.to_csv('module_5_auto.csv')"
      ],
      "execution_count": 0,
      "outputs": []
    },
    {
      "cell_type": "markdown",
      "metadata": {
        "id": "dyKQ_xVFE41f",
        "colab_type": "text"
      },
      "source": [
        " First lets only use numeric data "
      ]
    },
    {
      "cell_type": "code",
      "metadata": {
        "scrolled": false,
        "id": "1k8XEhIIE41g",
        "colab_type": "code",
        "colab": {
          "base_uri": "https://localhost:8080/",
          "height": 221
        },
        "outputId": "ed67e6da-75d3-4db3-86d7-5da74b374dd4"
      },
      "source": [
        "df=df._get_numeric_data()\n",
        "df.head()"
      ],
      "execution_count": 150,
      "outputs": [
        {
          "output_type": "execute_result",
          "data": {
            "text/html": [
              "<div>\n",
              "<style scoped>\n",
              "    .dataframe tbody tr th:only-of-type {\n",
              "        vertical-align: middle;\n",
              "    }\n",
              "\n",
              "    .dataframe tbody tr th {\n",
              "        vertical-align: top;\n",
              "    }\n",
              "\n",
              "    .dataframe thead th {\n",
              "        text-align: right;\n",
              "    }\n",
              "</style>\n",
              "<table border=\"1\" class=\"dataframe\">\n",
              "  <thead>\n",
              "    <tr style=\"text-align: right;\">\n",
              "      <th></th>\n",
              "      <th>Unnamed: 0</th>\n",
              "      <th>Unnamed: 0.1</th>\n",
              "      <th>symboling</th>\n",
              "      <th>normalized-losses</th>\n",
              "      <th>wheel-base</th>\n",
              "      <th>length</th>\n",
              "      <th>width</th>\n",
              "      <th>height</th>\n",
              "      <th>curb-weight</th>\n",
              "      <th>engine-size</th>\n",
              "      <th>bore</th>\n",
              "      <th>stroke</th>\n",
              "      <th>compression-ratio</th>\n",
              "      <th>horsepower</th>\n",
              "      <th>peak-rpm</th>\n",
              "      <th>city-mpg</th>\n",
              "      <th>highway-mpg</th>\n",
              "      <th>price</th>\n",
              "      <th>city-L/100km</th>\n",
              "      <th>diesel</th>\n",
              "      <th>gas</th>\n",
              "    </tr>\n",
              "  </thead>\n",
              "  <tbody>\n",
              "    <tr>\n",
              "      <th>0</th>\n",
              "      <td>0</td>\n",
              "      <td>0</td>\n",
              "      <td>3</td>\n",
              "      <td>122</td>\n",
              "      <td>88.6</td>\n",
              "      <td>0.811148</td>\n",
              "      <td>0.890278</td>\n",
              "      <td>48.8</td>\n",
              "      <td>2548</td>\n",
              "      <td>130</td>\n",
              "      <td>3.47</td>\n",
              "      <td>2.68</td>\n",
              "      <td>9.0</td>\n",
              "      <td>111.0</td>\n",
              "      <td>5000.0</td>\n",
              "      <td>21</td>\n",
              "      <td>27</td>\n",
              "      <td>13495.0</td>\n",
              "      <td>11.190476</td>\n",
              "      <td>0</td>\n",
              "      <td>1</td>\n",
              "    </tr>\n",
              "    <tr>\n",
              "      <th>1</th>\n",
              "      <td>1</td>\n",
              "      <td>1</td>\n",
              "      <td>3</td>\n",
              "      <td>122</td>\n",
              "      <td>88.6</td>\n",
              "      <td>0.811148</td>\n",
              "      <td>0.890278</td>\n",
              "      <td>48.8</td>\n",
              "      <td>2548</td>\n",
              "      <td>130</td>\n",
              "      <td>3.47</td>\n",
              "      <td>2.68</td>\n",
              "      <td>9.0</td>\n",
              "      <td>111.0</td>\n",
              "      <td>5000.0</td>\n",
              "      <td>21</td>\n",
              "      <td>27</td>\n",
              "      <td>16500.0</td>\n",
              "      <td>11.190476</td>\n",
              "      <td>0</td>\n",
              "      <td>1</td>\n",
              "    </tr>\n",
              "    <tr>\n",
              "      <th>2</th>\n",
              "      <td>2</td>\n",
              "      <td>2</td>\n",
              "      <td>1</td>\n",
              "      <td>122</td>\n",
              "      <td>94.5</td>\n",
              "      <td>0.822681</td>\n",
              "      <td>0.909722</td>\n",
              "      <td>52.4</td>\n",
              "      <td>2823</td>\n",
              "      <td>152</td>\n",
              "      <td>2.68</td>\n",
              "      <td>3.47</td>\n",
              "      <td>9.0</td>\n",
              "      <td>154.0</td>\n",
              "      <td>5000.0</td>\n",
              "      <td>19</td>\n",
              "      <td>26</td>\n",
              "      <td>16500.0</td>\n",
              "      <td>12.368421</td>\n",
              "      <td>0</td>\n",
              "      <td>1</td>\n",
              "    </tr>\n",
              "    <tr>\n",
              "      <th>3</th>\n",
              "      <td>3</td>\n",
              "      <td>3</td>\n",
              "      <td>2</td>\n",
              "      <td>164</td>\n",
              "      <td>99.8</td>\n",
              "      <td>0.848630</td>\n",
              "      <td>0.919444</td>\n",
              "      <td>54.3</td>\n",
              "      <td>2337</td>\n",
              "      <td>109</td>\n",
              "      <td>3.19</td>\n",
              "      <td>3.40</td>\n",
              "      <td>10.0</td>\n",
              "      <td>102.0</td>\n",
              "      <td>5500.0</td>\n",
              "      <td>24</td>\n",
              "      <td>30</td>\n",
              "      <td>13950.0</td>\n",
              "      <td>9.791667</td>\n",
              "      <td>0</td>\n",
              "      <td>1</td>\n",
              "    </tr>\n",
              "    <tr>\n",
              "      <th>4</th>\n",
              "      <td>4</td>\n",
              "      <td>4</td>\n",
              "      <td>2</td>\n",
              "      <td>164</td>\n",
              "      <td>99.4</td>\n",
              "      <td>0.848630</td>\n",
              "      <td>0.922222</td>\n",
              "      <td>54.3</td>\n",
              "      <td>2824</td>\n",
              "      <td>136</td>\n",
              "      <td>3.19</td>\n",
              "      <td>3.40</td>\n",
              "      <td>8.0</td>\n",
              "      <td>115.0</td>\n",
              "      <td>5500.0</td>\n",
              "      <td>18</td>\n",
              "      <td>22</td>\n",
              "      <td>17450.0</td>\n",
              "      <td>13.055556</td>\n",
              "      <td>0</td>\n",
              "      <td>1</td>\n",
              "    </tr>\n",
              "  </tbody>\n",
              "</table>\n",
              "</div>"
            ],
            "text/plain": [
              "   Unnamed: 0  Unnamed: 0.1  symboling  ...  city-L/100km  diesel  gas\n",
              "0           0             0          3  ...     11.190476       0    1\n",
              "1           1             1          3  ...     11.190476       0    1\n",
              "2           2             2          1  ...     12.368421       0    1\n",
              "3           3             3          2  ...      9.791667       0    1\n",
              "4           4             4          2  ...     13.055556       0    1\n",
              "\n",
              "[5 rows x 21 columns]"
            ]
          },
          "metadata": {
            "tags": []
          },
          "execution_count": 150
        }
      ]
    },
    {
      "cell_type": "markdown",
      "metadata": {
        "id": "DrztD_upE41j",
        "colab_type": "text"
      },
      "source": [
        " Libraries for plotting "
      ]
    },
    {
      "cell_type": "code",
      "metadata": {
        "id": "f7GrjYTsE41k",
        "colab_type": "code",
        "colab": {}
      },
      "source": [
        "%%capture\n",
        "! pip install ipywidgets"
      ],
      "execution_count": 0,
      "outputs": []
    },
    {
      "cell_type": "code",
      "metadata": {
        "id": "iZvrZKsPE41n",
        "colab_type": "code",
        "colab": {}
      },
      "source": [
        "from IPython.display import display\n",
        "from IPython.html import widgets \n",
        "from IPython.display import display\n",
        "from ipywidgets import interact, interactive, fixed, interact_manual"
      ],
      "execution_count": 0,
      "outputs": []
    },
    {
      "cell_type": "markdown",
      "metadata": {
        "id": "w2cONwyTE41r",
        "colab_type": "text"
      },
      "source": [
        "<h2>Functions for plotting</h2>"
      ]
    },
    {
      "cell_type": "code",
      "metadata": {
        "id": "WN4Y-S0lE41s",
        "colab_type": "code",
        "colab": {}
      },
      "source": [
        "def DistributionPlot(RedFunction, BlueFunction, RedName, BlueName, Title):\n",
        "    width = 12\n",
        "    height = 10\n",
        "    plt.figure(figsize=(width, height))\n",
        "\n",
        "    ax1 = sns.distplot(RedFunction, hist=False, color=\"r\", label=RedName)\n",
        "    ax2 = sns.distplot(BlueFunction, hist=False, color=\"b\", label=BlueName, ax=ax1)\n",
        "\n",
        "    plt.title(Title)\n",
        "    plt.xlabel('Price (in dollars)')\n",
        "    plt.ylabel('Proportion of Cars')\n",
        "\n",
        "    plt.show()\n",
        "    plt.close()"
      ],
      "execution_count": 0,
      "outputs": []
    },
    {
      "cell_type": "code",
      "metadata": {
        "id": "KylsOdwvE41w",
        "colab_type": "code",
        "colab": {}
      },
      "source": [
        "def PollyPlot(xtrain, xtest, y_train, y_test, lr,poly_transform):\n",
        "    width = 12\n",
        "    height = 10\n",
        "    plt.figure(figsize=(width, height))\n",
        "    \n",
        "    \n",
        "    #training data \n",
        "    #testing data \n",
        "    # lr:  linear regression object \n",
        "    #poly_transform:  polynomial transformation object \n",
        " \n",
        "    xmax=max([xtrain.values.max(), xtest.values.max()])\n",
        "\n",
        "    xmin=min([xtrain.values.min(), xtest.values.min()])\n",
        "\n",
        "    x=np.arange(xmin, xmax, 0.1)\n",
        "\n",
        "\n",
        "    plt.plot(xtrain, y_train, 'ro', label='Training Data')\n",
        "    plt.plot(xtest, y_test, 'go', label='Test Data')\n",
        "    plt.plot(x, lr.predict(poly_transform.fit_transform(x.reshape(-1, 1))), label='Predicted Function')\n",
        "    plt.ylim([-10000, 60000])\n",
        "    plt.ylabel('Price')\n",
        "    plt.legend()"
      ],
      "execution_count": 0,
      "outputs": []
    },
    {
      "cell_type": "markdown",
      "metadata": {
        "id": "W-1A_teUE41z",
        "colab_type": "text"
      },
      "source": [
        "<h1 id=\"ref1\">Part 1: Training and Testing</h1>\n",
        "\n",
        "<p>An important step in testing your model is to split your data into training and testing data. We will place the target data <b>price</b> in a separate dataframe <b>y</b>:</p>"
      ]
    },
    {
      "cell_type": "code",
      "metadata": {
        "id": "y3vvdc6OE410",
        "colab_type": "code",
        "colab": {}
      },
      "source": [
        "y_data = df['price']"
      ],
      "execution_count": 0,
      "outputs": []
    },
    {
      "cell_type": "markdown",
      "metadata": {
        "id": "Jog-z146E413",
        "colab_type": "text"
      },
      "source": [
        "drop price data in x data"
      ]
    },
    {
      "cell_type": "code",
      "metadata": {
        "id": "e2-tXfqpE414",
        "colab_type": "code",
        "colab": {}
      },
      "source": [
        "#x_data is everything in the df other than price\n",
        "x_data=df.drop('price',axis=1)"
      ],
      "execution_count": 0,
      "outputs": []
    },
    {
      "cell_type": "markdown",
      "metadata": {
        "id": "XyA-I-9PE418",
        "colab_type": "text"
      },
      "source": [
        "Now we randomly split our data into training and testing data  using the function <b>train_test_split</b>. "
      ]
    },
    {
      "cell_type": "code",
      "metadata": {
        "id": "UwbdNbO4E419",
        "colab_type": "code",
        "colab": {
          "base_uri": "https://localhost:8080/",
          "height": 55
        },
        "outputId": "f0046ce2-0e4c-4586-9516-3044d7bc975f"
      },
      "source": [
        "from sklearn.model_selection import train_test_split\n",
        "\n",
        "\n",
        "x_train, x_test, y_train, y_test = train_test_split(x_data, y_data, test_size=0.15, random_state=1)\n",
        "\n",
        "\n",
        "print(\"number of test samples :\", x_test.shape[0])\n",
        "print(\"number of training samples:\",x_train.shape[0])\n"
      ],
      "execution_count": 157,
      "outputs": [
        {
          "output_type": "stream",
          "text": [
            "number of test samples : 31\n",
            "number of training samples: 170\n"
          ],
          "name": "stdout"
        }
      ]
    },
    {
      "cell_type": "markdown",
      "metadata": {
        "id": "RSjYYh1DE42A",
        "colab_type": "text"
      },
      "source": [
        "The <b>test_size</b> parameter sets the proportion of data that is split into the testing set. In the above, the testing set is set to 15% of the total dataset. "
      ]
    },
    {
      "cell_type": "markdown",
      "metadata": {
        "id": "zTQgyyA1E42B",
        "colab_type": "text"
      },
      "source": [
        "<div class=\"alert alert-danger alertdanger\" style=\"margin-top: 20px\">\n",
        "<h1> Question  #1):</h1>\n",
        "\n",
        "<b>Use the function \"train_test_split\" to split up the data set such that 40% of the data samples will be utilized for testing, set the parameter \"random_state\" equal to zero. The output of the function should be the following:  \"x_train_1\" , \"x_test_1\", \"y_train_1\" and  \"y_test_1\".</b>\n",
        "</div>"
      ]
    },
    {
      "cell_type": "code",
      "metadata": {
        "id": "nxYi5kUEE42B",
        "colab_type": "code",
        "colab": {}
      },
      "source": [
        "# Write your code below and press Shift+Enter to execute \n",
        "x_train_1, x_test_1, y_train_1, y_test_1 = train_test_split(x_data, y_data, test_size=0.4, random_state=0)"
      ],
      "execution_count": 0,
      "outputs": []
    },
    {
      "cell_type": "markdown",
      "metadata": {
        "id": "Uhpt_jBWE42F",
        "colab_type": "text"
      },
      "source": [
        "Double-click <b>here</b> for the solution.\n",
        "\n",
        "<!-- The answer is below:\n",
        "\n",
        "x_train1, x_test1, y_train1, y_test1 = train_test_split(x_data, y_data, test_size=0.4, random_state=0) \n",
        "print(\"number of test samples :\", x_test1.shape[0])\n",
        "print(\"number of training samples:\",x_train1.shape[0])\n",
        "\n",
        "-->"
      ]
    },
    {
      "cell_type": "markdown",
      "metadata": {
        "id": "tgdFhefaE42F",
        "colab_type": "text"
      },
      "source": [
        "Let's import <b>LinearRegression</b> from the module <b>linear_model</b>."
      ]
    },
    {
      "cell_type": "code",
      "metadata": {
        "id": "tzzqZ0S-E42G",
        "colab_type": "code",
        "colab": {}
      },
      "source": [
        "from sklearn.linear_model import LinearRegression"
      ],
      "execution_count": 0,
      "outputs": []
    },
    {
      "cell_type": "markdown",
      "metadata": {
        "id": "6fI0CbwME42J",
        "colab_type": "text"
      },
      "source": [
        " We create a Linear Regression object:"
      ]
    },
    {
      "cell_type": "code",
      "metadata": {
        "id": "AzTjbN_eE42J",
        "colab_type": "code",
        "colab": {}
      },
      "source": [
        "lre=LinearRegression()"
      ],
      "execution_count": 0,
      "outputs": []
    },
    {
      "cell_type": "markdown",
      "metadata": {
        "id": "Vrpe5B72E42M",
        "colab_type": "text"
      },
      "source": [
        "we fit the model using the feature horsepower "
      ]
    },
    {
      "cell_type": "code",
      "metadata": {
        "id": "KkgjDm7mE42N",
        "colab_type": "code",
        "colab": {
          "base_uri": "https://localhost:8080/",
          "height": 36
        },
        "outputId": "b89e9044-1e51-46ed-bd37-ea2c2befad77"
      },
      "source": [
        "lre.fit(x_train[['horsepower']], y_train)"
      ],
      "execution_count": 168,
      "outputs": [
        {
          "output_type": "execute_result",
          "data": {
            "text/plain": [
              "LinearRegression(copy_X=True, fit_intercept=True, n_jobs=None, normalize=False)"
            ]
          },
          "metadata": {
            "tags": []
          },
          "execution_count": 168
        }
      ]
    },
    {
      "cell_type": "markdown",
      "metadata": {
        "id": "rUoAsSOfE42R",
        "colab_type": "text"
      },
      "source": [
        "Let's Calculate the R^2 on the test data:"
      ]
    },
    {
      "cell_type": "code",
      "metadata": {
        "id": "QIV5jpUyE42S",
        "colab_type": "code",
        "colab": {
          "base_uri": "https://localhost:8080/",
          "height": 36
        },
        "outputId": "6dcbbaaa-7e2e-42b6-bc0d-400833213fe3"
      },
      "source": [
        "lre.score(x_test[['horsepower']], y_test)"
      ],
      "execution_count": 169,
      "outputs": [
        {
          "output_type": "execute_result",
          "data": {
            "text/plain": [
              "0.707688374146705"
            ]
          },
          "metadata": {
            "tags": []
          },
          "execution_count": 169
        }
      ]
    },
    {
      "cell_type": "markdown",
      "metadata": {
        "id": "KHbEGZaWE42V",
        "colab_type": "text"
      },
      "source": [
        "we can see the R^2 is much smaller using the test data."
      ]
    },
    {
      "cell_type": "code",
      "metadata": {
        "id": "kAdNpkHHE42W",
        "colab_type": "code",
        "colab": {
          "base_uri": "https://localhost:8080/",
          "height": 36
        },
        "outputId": "c461d5f3-a3ce-422c-9423-c71e8b1a8747"
      },
      "source": [
        "lre.score(x_train[['horsepower']], y_train)"
      ],
      "execution_count": 170,
      "outputs": [
        {
          "output_type": "execute_result",
          "data": {
            "text/plain": [
              "0.6449517437659684"
            ]
          },
          "metadata": {
            "tags": []
          },
          "execution_count": 170
        }
      ]
    },
    {
      "cell_type": "markdown",
      "metadata": {
        "id": "qVNfDdfwE42Y",
        "colab_type": "text"
      },
      "source": [
        "<div class=\"alert alert-danger alertdanger\" style=\"margin-top: 20px\">\n",
        "<h1> Question  #2): </h1>\n",
        "<b> \n",
        "Find the R^2  on the test data using 90% of the data for training data\n",
        "</b>\n",
        "</div>"
      ]
    },
    {
      "cell_type": "code",
      "metadata": {
        "id": "1_FpxmIjE42Z",
        "colab_type": "code",
        "colab": {
          "base_uri": "https://localhost:8080/",
          "height": 36
        },
        "outputId": "116ca542-8a2b-4fe2-8dcf-2933f833363a"
      },
      "source": [
        "# Write your code below and press Shift+Enter to execute \n",
        "x_train_2, x_test_2, y_train_2, y_test_2 = train_test_split(x_data, y_data, test_size=0.1, random_state=0)\n",
        "lre2 = LinearRegression()\n",
        "lre2.fit(x_train_2[['horsepower']], y_train_2)\n",
        "lre2.score(x_train_2[['horsepower']], y_train_2)"
      ],
      "execution_count": 175,
      "outputs": [
        {
          "output_type": "execute_result",
          "data": {
            "text/plain": [
              "0.6479796296498318"
            ]
          },
          "metadata": {
            "tags": []
          },
          "execution_count": 175
        }
      ]
    },
    {
      "cell_type": "markdown",
      "metadata": {
        "id": "8GlXPzvRE42c",
        "colab_type": "text"
      },
      "source": [
        "Double-click <b>here</b> for the solution.\n",
        "\n",
        "<!-- The answer is below:\n",
        "\n",
        "x_train1, x_test1, y_train1, y_test1 = train_test_split(x_data, y_data, test_size=0.1, random_state=0)\n",
        "lre.fit(x_train1[['horsepower']],y_train1)\n",
        "lre.score(x_test1[['horsepower']],y_test1)\n",
        "\n",
        "-->"
      ]
    },
    {
      "cell_type": "markdown",
      "metadata": {
        "id": "3dyEApr-E42c",
        "colab_type": "text"
      },
      "source": [
        " Sometimes you do not have sufficient testing data; as a result, you may want to perform Cross-validation. Let's  go over several methods that you can use for  Cross-validation. "
      ]
    },
    {
      "cell_type": "markdown",
      "metadata": {
        "id": "PTscJno0E42d",
        "colab_type": "text"
      },
      "source": [
        "<h2>Cross-validation Score</h2>"
      ]
    },
    {
      "cell_type": "markdown",
      "metadata": {
        "id": "-MCqWYgcE42d",
        "colab_type": "text"
      },
      "source": [
        "Lets import <b>model_selection</b> from the module <b>cross_val_score</b>."
      ]
    },
    {
      "cell_type": "code",
      "metadata": {
        "id": "QqsXujY4E42e",
        "colab_type": "code",
        "colab": {}
      },
      "source": [
        "from sklearn.model_selection import cross_val_score"
      ],
      "execution_count": 0,
      "outputs": []
    },
    {
      "cell_type": "markdown",
      "metadata": {
        "id": "VbCV_62SE42h",
        "colab_type": "text"
      },
      "source": [
        "We input the object, the feature in this case ' horsepower', the target data (y_data). The parameter 'cv'  determines the number of folds; in this case 4. "
      ]
    },
    {
      "cell_type": "code",
      "metadata": {
        "id": "AAqD6wrlE42i",
        "colab_type": "code",
        "colab": {}
      },
      "source": [
        "Rcross = cross_val_score(lre, x_data[['horsepower']], y_data, cv=4)"
      ],
      "execution_count": 0,
      "outputs": []
    },
    {
      "cell_type": "markdown",
      "metadata": {
        "id": "tEfkqxmEE42l",
        "colab_type": "text"
      },
      "source": [
        "The default scoring is R^2; each element in the array has the average  R^2 value in the fold:"
      ]
    },
    {
      "cell_type": "code",
      "metadata": {
        "id": "9Oc0eR6vE42n",
        "colab_type": "code",
        "colab": {
          "base_uri": "https://localhost:8080/",
          "height": 36
        },
        "outputId": "041923db-e74d-4c96-af45-5d530615eea4"
      },
      "source": [
        "Rcross"
      ],
      "execution_count": 178,
      "outputs": [
        {
          "output_type": "execute_result",
          "data": {
            "text/plain": [
              "array([0.7746232 , 0.51716687, 0.74785353, 0.04839605])"
            ]
          },
          "metadata": {
            "tags": []
          },
          "execution_count": 178
        }
      ]
    },
    {
      "cell_type": "markdown",
      "metadata": {
        "id": "tMsecQlwE42q",
        "colab_type": "text"
      },
      "source": [
        " We can calculate the average and standard deviation of our estimate:"
      ]
    },
    {
      "cell_type": "code",
      "metadata": {
        "id": "K8UAGr0YE42q",
        "colab_type": "code",
        "colab": {
          "base_uri": "https://localhost:8080/",
          "height": 36
        },
        "outputId": "0d8a9429-fb12-415e-cfa2-5cef69e95324"
      },
      "source": [
        "print(\"The mean of the folds are\", Rcross.mean(), \"and the standard deviation is\" , Rcross.std())"
      ],
      "execution_count": 179,
      "outputs": [
        {
          "output_type": "stream",
          "text": [
            "The mean of the folds are 0.522009915042119 and the standard deviation is 0.291183944475603\n"
          ],
          "name": "stdout"
        }
      ]
    },
    {
      "cell_type": "markdown",
      "metadata": {
        "id": "46lORirbE42t",
        "colab_type": "text"
      },
      "source": [
        "We can use negative squared error as a score by setting the parameter  'scoring' metric to 'neg_mean_squared_error'. "
      ]
    },
    {
      "cell_type": "code",
      "metadata": {
        "id": "WF-9r35XE42u",
        "colab_type": "code",
        "colab": {
          "base_uri": "https://localhost:8080/",
          "height": 55
        },
        "outputId": "4f323b52-9658-44e1-9184-020d04f3bc18"
      },
      "source": [
        "-1 * cross_val_score(lre,x_data[['horsepower']], y_data,cv=4,scoring='neg_mean_squared_error')"
      ],
      "execution_count": 180,
      "outputs": [
        {
          "output_type": "execute_result",
          "data": {
            "text/plain": [
              "array([20254142.84026702, 43745493.2650517 , 12539630.34014931,\n",
              "       17561927.72247591])"
            ]
          },
          "metadata": {
            "tags": []
          },
          "execution_count": 180
        }
      ]
    },
    {
      "cell_type": "markdown",
      "metadata": {
        "id": "dPy1kj9IE42x",
        "colab_type": "text"
      },
      "source": [
        "<div class=\"alert alert-danger alertdanger\" style=\"margin-top: 20px\">\n",
        "<h1> Question  #3): </h1>\n",
        "<b> \n",
        "Calculate the average R^2 using two folds, find the average R^2 for the second fold utilizing the horsepower as a feature : \n",
        "</b>\n",
        "</div>"
      ]
    },
    {
      "cell_type": "code",
      "metadata": {
        "id": "Vu0vZBI-E42x",
        "colab_type": "code",
        "colab": {
          "base_uri": "https://localhost:8080/",
          "height": 36
        },
        "outputId": "6c6dfb03-36f9-4ee4-9c09-f336b52cd748"
      },
      "source": [
        "# Write your code below and press Shift+Enter to execute \n",
        "Rcross2 = cross_val_score(lre2, x_train_2[['horsepower']], y_train_2, cv=2)\n",
        "print('Average R^2 for the folds are:', Rcross2.mean())"
      ],
      "execution_count": 187,
      "outputs": [
        {
          "output_type": "stream",
          "text": [
            "Average R^2 for the folds are: 0.5766455198819291\n"
          ],
          "name": "stdout"
        }
      ]
    },
    {
      "cell_type": "markdown",
      "metadata": {
        "id": "-SqjRmQ8E420",
        "colab_type": "text"
      },
      "source": [
        "Double-click <b>here</b> for the solution.\n",
        "\n",
        "<!-- The answer is below:\n",
        "\n",
        "Rc=cross_val_score(lre,x_data[['horsepower']], y_data,cv=2)\n",
        "Rc.mean()\n",
        "\n",
        "-->"
      ]
    },
    {
      "cell_type": "markdown",
      "metadata": {
        "id": "9w-BKZQNE421",
        "colab_type": "text"
      },
      "source": [
        "You can also use the function 'cross_val_predict' to predict the output. The function splits up the data into the specified number of folds, using one fold to get a prediction while the rest of the folds are used as test data. First import the function:"
      ]
    },
    {
      "cell_type": "code",
      "metadata": {
        "id": "h9XGWdjyE421",
        "colab_type": "code",
        "colab": {}
      },
      "source": [
        "from sklearn.model_selection import cross_val_predict"
      ],
      "execution_count": 0,
      "outputs": []
    },
    {
      "cell_type": "markdown",
      "metadata": {
        "id": "_RtLhm6TE425",
        "colab_type": "text"
      },
      "source": [
        "We input the object, the feature in this case <b>'horsepower'</b> , the target data <b>y_data</b>. The parameter 'cv' determines the number of folds; in this case 4. We can produce an output:"
      ]
    },
    {
      "cell_type": "code",
      "metadata": {
        "id": "NrW4CQcNE425",
        "colab_type": "code",
        "colab": {
          "base_uri": "https://localhost:8080/",
          "height": 55
        },
        "outputId": "7b456fa0-8999-4c06-d39d-34a1dc97d7ba"
      },
      "source": [
        "yhat = cross_val_predict(lre,x_data[['horsepower']], y_data,cv=4)\n",
        "yhat[0:5]"
      ],
      "execution_count": 191,
      "outputs": [
        {
          "output_type": "execute_result",
          "data": {
            "text/plain": [
              "array([14141.63807508, 14141.63807508, 20814.29423473, 12745.03562306,\n",
              "       14762.35027598])"
            ]
          },
          "metadata": {
            "tags": []
          },
          "execution_count": 191
        }
      ]
    },
    {
      "cell_type": "markdown",
      "metadata": {
        "id": "m2upDy2EE428",
        "colab_type": "text"
      },
      "source": [
        "<h1 id=\"ref2\">Part 2: Overfitting, Underfitting and Model Selection</h1>\n",
        "\n",
        "<p>It turns out that the test data sometimes referred to as the out of sample data is a much better measure of how well your model performs in the real world.  One reason for this is overfitting; let's go over some examples. It turns out these differences are more apparent in Multiple Linear Regression and Polynomial Regression so we will explore overfitting in that context.</p>"
      ]
    },
    {
      "cell_type": "markdown",
      "metadata": {
        "id": "2s6xl_b-E428",
        "colab_type": "text"
      },
      "source": [
        "Let's create Multiple linear regression objects and train the model using <b>'horsepower'</b>, <b>'curb-weight'</b>, <b>'engine-size'</b> and <b>'highway-mpg'</b> as features."
      ]
    },
    {
      "cell_type": "code",
      "metadata": {
        "id": "VURVRnviE429",
        "colab_type": "code",
        "colab": {
          "base_uri": "https://localhost:8080/",
          "height": 36
        },
        "outputId": "e4ab8250-4425-48af-e95b-454628655e6a"
      },
      "source": [
        "lr = LinearRegression()\n",
        "lr.fit(x_train[['horsepower', 'curb-weight', 'engine-size', 'highway-mpg']], y_train)"
      ],
      "execution_count": 192,
      "outputs": [
        {
          "output_type": "execute_result",
          "data": {
            "text/plain": [
              "LinearRegression(copy_X=True, fit_intercept=True, n_jobs=None, normalize=False)"
            ]
          },
          "metadata": {
            "tags": []
          },
          "execution_count": 192
        }
      ]
    },
    {
      "cell_type": "markdown",
      "metadata": {
        "id": "GjWOmZ1-E43A",
        "colab_type": "text"
      },
      "source": [
        "Prediction using training data:"
      ]
    },
    {
      "cell_type": "code",
      "metadata": {
        "id": "CyoYdxPYE43A",
        "colab_type": "code",
        "colab": {
          "base_uri": "https://localhost:8080/",
          "height": 55
        },
        "outputId": "c338cfbb-92dd-4163-84a0-5a026aa030a6"
      },
      "source": [
        "yhat_train = lr.predict(x_train[['horsepower', 'curb-weight', 'engine-size', 'highway-mpg']])\n",
        "yhat_train[0:5]"
      ],
      "execution_count": 193,
      "outputs": [
        {
          "output_type": "execute_result",
          "data": {
            "text/plain": [
              "array([11927.70699817, 11236.71672034,  6436.91775515, 21890.22064982,\n",
              "       16667.18254832])"
            ]
          },
          "metadata": {
            "tags": []
          },
          "execution_count": 193
        }
      ]
    },
    {
      "cell_type": "markdown",
      "metadata": {
        "id": "33WlsjQVE43E",
        "colab_type": "text"
      },
      "source": [
        "Prediction using test data: "
      ]
    },
    {
      "cell_type": "code",
      "metadata": {
        "id": "E2_wK5fxE43E",
        "colab_type": "code",
        "colab": {
          "base_uri": "https://localhost:8080/",
          "height": 55
        },
        "outputId": "9ccc119e-503d-42a3-ef01-0a38f2e6327a"
      },
      "source": [
        "yhat_test = lr.predict(x_test[['horsepower', 'curb-weight', 'engine-size', 'highway-mpg']])\n",
        "yhat_test[0:5]"
      ],
      "execution_count": 194,
      "outputs": [
        {
          "output_type": "execute_result",
          "data": {
            "text/plain": [
              "array([11349.16502418,  5914.48335385, 11243.76325987,  6662.03197043,\n",
              "       15555.76936275])"
            ]
          },
          "metadata": {
            "tags": []
          },
          "execution_count": 194
        }
      ]
    },
    {
      "cell_type": "markdown",
      "metadata": {
        "id": "24w7PiM2E43H",
        "colab_type": "text"
      },
      "source": [
        "Let's perform some model evaluation using our training and testing data separately. First  we import the seaborn and matplotlibb library for plotting."
      ]
    },
    {
      "cell_type": "code",
      "metadata": {
        "id": "DHdPCOXXE43I",
        "colab_type": "code",
        "colab": {}
      },
      "source": [
        "import matplotlib.pyplot as plt\n",
        "%matplotlib inline\n",
        "import seaborn as sns"
      ],
      "execution_count": 0,
      "outputs": []
    },
    {
      "cell_type": "markdown",
      "metadata": {
        "id": "q77VoPEiE43M",
        "colab_type": "text"
      },
      "source": [
        "Let's examine the distribution of the predicted values of the training data."
      ]
    },
    {
      "cell_type": "code",
      "metadata": {
        "id": "b0OPgSrPE43M",
        "colab_type": "code",
        "colab": {
          "base_uri": "https://localhost:8080/",
          "height": 621
        },
        "outputId": "d2d4d10d-f86a-4f6f-989f-ab3a5d862e39"
      },
      "source": [
        "Title = 'Distribution  Plot of  Predicted Value Using Training Data vs Training Data Distribution'\n",
        "DistributionPlot(y_train, yhat_train, \"Actual Values (Train)\", \"Predicted Values (Train)\", Title)"
      ],
      "execution_count": 196,
      "outputs": [
        {
          "output_type": "display_data",
          "data": {
            "image/png": "[encoded data removed]",
            "text/plain": [
              "<Figure size 864x720 with 1 Axes>"
            ]
          },
          "metadata": {
            "tags": [],
            "needs_background": "light"
          }
        }
      ]
    },
    {
      "cell_type": "markdown",
      "metadata": {
        "id": "Np3M6Qp9E43P",
        "colab_type": "text"
      },
      "source": [
        "Figure 1: Plot of predicted values using the training data compared to the training data. "
      ]
    },
    {
      "cell_type": "markdown",
      "metadata": {
        "id": "bM2lKgCNE43Q",
        "colab_type": "text"
      },
      "source": [
        "So far the model seems to be doing well in learning from the training dataset. But what happens when the model encounters new data from the testing dataset? When the model generates new values from the test data, we see the distribution of the predicted values is much different from the actual target values. "
      ]
    },
    {
      "cell_type": "code",
      "metadata": {
        "id": "Z9ehXbtsE43Q",
        "colab_type": "code",
        "colab": {
          "base_uri": "https://localhost:8080/",
          "height": 621
        },
        "outputId": "902c6365-508d-4389-c915-fb480f93f102"
      },
      "source": [
        "Title='Distribution  Plot of  Predicted Value Using Test Data vs Data Distribution of Test Data'\n",
        "DistributionPlot(y_test,yhat_test,\"Actual Values (Test)\",\"Predicted Values (Test)\",Title)"
      ],
      "execution_count": 197,
      "outputs": [
        {
          "output_type": "display_data",
          "data": {
            "image/png": "[encoded data removed]",
            "text/plain": [
              "<Figure size 864x720 with 1 Axes>"
            ]
          },
          "metadata": {
            "tags": [],
            "needs_background": "light"
          }
        }
      ]
    },
    {
      "cell_type": "markdown",
      "metadata": {
        "id": "KpEnpGh4E43W",
        "colab_type": "text"
      },
      "source": [
        "Figur 2: Plot of predicted value using the test data compared to the test data. "
      ]
    },
    {
      "cell_type": "markdown",
      "metadata": {
        "id": "TzMMXg07E43W",
        "colab_type": "text"
      },
      "source": [
        "<p>Comparing Figure 1 and Figure 2; it is evident the distribution of the test data in Figure 1 is much better at fitting the data. This difference in Figure 2 is apparent where the ranges are from 5000 to 15 000. This is where the distribution shape is exceptionally different. Let's see if polynomial regression also exhibits a drop in the prediction accuracy when analysing the test dataset.</p>"
      ]
    },
    {
      "cell_type": "code",
      "metadata": {
        "id": "M-966eFuE43Y",
        "colab_type": "code",
        "colab": {}
      },
      "source": [
        "from sklearn.preprocessing import PolynomialFeatures"
      ],
      "execution_count": 0,
      "outputs": []
    },
    {
      "cell_type": "markdown",
      "metadata": {
        "id": "7nMJcVYFE43b",
        "colab_type": "text"
      },
      "source": [
        "<h4>Overfitting</h4>\n",
        "<p>Overfitting occurs when the model fits the noise, not the underlying process. Therefore when testing your model using the test-set, your model does not perform as well as it is modelling noise, not the underlying process that generated the relationship. Let's create a degree 5 polynomial model.</p>"
      ]
    },
    {
      "cell_type": "markdown",
      "metadata": {
        "id": "6FWt_RIiE43b",
        "colab_type": "text"
      },
      "source": [
        "Let's use 55 percent of the data for testing and the rest for training:"
      ]
    },
    {
      "cell_type": "code",
      "metadata": {
        "id": "K-StOuRvE43c",
        "colab_type": "code",
        "colab": {}
      },
      "source": [
        "x_train, x_test, y_train, y_test = train_test_split(x_data, y_data, test_size=0.45, random_state=0)"
      ],
      "execution_count": 0,
      "outputs": []
    },
    {
      "cell_type": "markdown",
      "metadata": {
        "id": "l55O2NjXE43f",
        "colab_type": "text"
      },
      "source": [
        "We will perform a degree 5 polynomial transformation on the feature <b>'horse power'</b>. "
      ]
    },
    {
      "cell_type": "code",
      "metadata": {
        "id": "OcI5EBJsE43h",
        "colab_type": "code",
        "colab": {
          "base_uri": "https://localhost:8080/",
          "height": 55
        },
        "outputId": "37b34b4a-6be3-4cfd-e0ad-a1a7a9819afc"
      },
      "source": [
        "pr = PolynomialFeatures(degree=5)\n",
        "x_train_pr = pr.fit_transform(x_train[['horsepower']])\n",
        "x_test_pr = pr.fit_transform(x_test[['horsepower']])\n",
        "pr"
      ],
      "execution_count": 200,
      "outputs": [
        {
          "output_type": "execute_result",
          "data": {
            "text/plain": [
              "PolynomialFeatures(degree=5, include_bias=True, interaction_only=False,\n",
              "                   order='C')"
            ]
          },
          "metadata": {
            "tags": []
          },
          "execution_count": 200
        }
      ]
    },
    {
      "cell_type": "markdown",
      "metadata": {
        "id": "HmtOmtpcE43k",
        "colab_type": "text"
      },
      "source": [
        "Now let's create a linear regression model \"poly\" and train it."
      ]
    },
    {
      "cell_type": "code",
      "metadata": {
        "id": "K7WAVCpCE43k",
        "colab_type": "code",
        "colab": {
          "base_uri": "https://localhost:8080/",
          "height": 36
        },
        "outputId": "94aa5a22-cd3e-419e-9c41-c6ffd118fbd2"
      },
      "source": [
        "poly = LinearRegression()\n",
        "poly.fit(x_train_pr, y_train)"
      ],
      "execution_count": 201,
      "outputs": [
        {
          "output_type": "execute_result",
          "data": {
            "text/plain": [
              "LinearRegression(copy_X=True, fit_intercept=True, n_jobs=None, normalize=False)"
            ]
          },
          "metadata": {
            "tags": []
          },
          "execution_count": 201
        }
      ]
    },
    {
      "cell_type": "markdown",
      "metadata": {
        "id": "giF6n64wE43m",
        "colab_type": "text"
      },
      "source": [
        "We can see the output of our model using the method  \"predict.\" then assign the values to \"yhat\"."
      ]
    },
    {
      "cell_type": "code",
      "metadata": {
        "id": "PL_NIgODE43n",
        "colab_type": "code",
        "colab": {
          "base_uri": "https://localhost:8080/",
          "height": 55
        },
        "outputId": "8fe744ab-df0f-47e5-eaae-244da8ffff85"
      },
      "source": [
        "yhat = poly.predict(x_test_pr)\n",
        "yhat[0:5]"
      ],
      "execution_count": 202,
      "outputs": [
        {
          "output_type": "execute_result",
          "data": {
            "text/plain": [
              "array([ 6728.65561887,  7307.98782321, 12213.78770965, 18893.24804015,\n",
              "       19995.95195136])"
            ]
          },
          "metadata": {
            "tags": []
          },
          "execution_count": 202
        }
      ]
    },
    {
      "cell_type": "markdown",
      "metadata": {
        "id": "d8HEzLWdE43q",
        "colab_type": "text"
      },
      "source": [
        "Let's take the first five predicted values and compare it to the actual targets. "
      ]
    },
    {
      "cell_type": "code",
      "metadata": {
        "id": "ct_f8tKIE43q",
        "colab_type": "code",
        "colab": {
          "base_uri": "https://localhost:8080/",
          "height": 55
        },
        "outputId": "68ecc5cb-6674-4461-9cc8-f71df77c5c4b"
      },
      "source": [
        "print(\"Predicted values:\", yhat[0:4])\n",
        "print(\"True values:\", y_test[0:4].values)"
      ],
      "execution_count": 203,
      "outputs": [
        {
          "output_type": "stream",
          "text": [
            "Predicted values: [ 6728.65561887  7307.98782321 12213.78770965 18893.24804015]\n",
            "True values: [ 6295. 10698. 13860. 13499.]\n"
          ],
          "name": "stdout"
        }
      ]
    },
    {
      "cell_type": "markdown",
      "metadata": {
        "id": "3-KJ2mlqE43t",
        "colab_type": "text"
      },
      "source": [
        "We will use the function \"PollyPlot\" that we defined at the beginning of the lab to display the training data, testing data, and the predicted function."
      ]
    },
    {
      "cell_type": "code",
      "metadata": {
        "scrolled": false,
        "id": "WCmUnSEdE43t",
        "colab_type": "code",
        "colab": {
          "base_uri": "https://localhost:8080/",
          "height": 595
        },
        "outputId": "64eb9bf9-8b62-403d-f700-fa3bea1835fc"
      },
      "source": [
        "PollyPlot(x_train[['horsepower']], x_test[['horsepower']], y_train, y_test, poly,pr)"
      ],
      "execution_count": 204,
      "outputs": [
        {
          "output_type": "display_data",
          "data": {
            "image/png": "[encoded data removed]",
            "text/plain": [
              "<Figure size 864x720 with 1 Axes>"
            ]
          },
          "metadata": {
            "tags": [],
            "needs_background": "light"
          }
        }
      ]
    },
    {
      "cell_type": "markdown",
      "metadata": {
        "id": "xa59Pl5WE43v",
        "colab_type": "text"
      },
      "source": [
        "Figur 4 A polynomial regression model, red dots represent training data, green dots represent test data, and the blue line represents the model prediction. "
      ]
    },
    {
      "cell_type": "markdown",
      "metadata": {
        "id": "Y9RmuB53E43w",
        "colab_type": "text"
      },
      "source": [
        "We see that the estimated function appears to track the data but around 200 horsepower, the function begins to diverge from the data points. "
      ]
    },
    {
      "cell_type": "markdown",
      "metadata": {
        "id": "Ok4iDYLEE43w",
        "colab_type": "text"
      },
      "source": [
        " R^2 of the training data:"
      ]
    },
    {
      "cell_type": "code",
      "metadata": {
        "id": "WLs08h1wE43w",
        "colab_type": "code",
        "colab": {
          "base_uri": "https://localhost:8080/",
          "height": 36
        },
        "outputId": "f9a51943-ccd4-463e-e988-3e33a076339a"
      },
      "source": [
        "poly.score(x_train_pr, y_train)"
      ],
      "execution_count": 206,
      "outputs": [
        {
          "output_type": "execute_result",
          "data": {
            "text/plain": [
              "0.556771690212023"
            ]
          },
          "metadata": {
            "tags": []
          },
          "execution_count": 206
        }
      ]
    },
    {
      "cell_type": "markdown",
      "metadata": {
        "id": "pHeXFt9AE43y",
        "colab_type": "text"
      },
      "source": [
        " R^2 of the test data:"
      ]
    },
    {
      "cell_type": "code",
      "metadata": {
        "id": "-izHf1IGE43z",
        "colab_type": "code",
        "colab": {
          "base_uri": "https://localhost:8080/",
          "height": 36
        },
        "outputId": "1e30c151-4018-4d75-c764-72739ddc73fb"
      },
      "source": [
        "poly.score(x_test_pr, y_test)"
      ],
      "execution_count": 207,
      "outputs": [
        {
          "output_type": "execute_result",
          "data": {
            "text/plain": [
              "-29.871340302044153"
            ]
          },
          "metadata": {
            "tags": []
          },
          "execution_count": 207
        }
      ]
    },
    {
      "cell_type": "markdown",
      "metadata": {
        "id": "T5sCVL2OE431",
        "colab_type": "text"
      },
      "source": [
        "We see the R^2 for the training data is 0.5567 while the R^2 on the test data was -29.87.  The lower the R^2, the worse the model, a Negative R^2 is a sign of overfitting."
      ]
    },
    {
      "cell_type": "markdown",
      "metadata": {
        "id": "pn7hx9DGE432",
        "colab_type": "text"
      },
      "source": [
        "Let's see how the R^2 changes on the test data for different order polynomials and plot the results:"
      ]
    },
    {
      "cell_type": "code",
      "metadata": {
        "id": "rZRe94KoE432",
        "colab_type": "code",
        "colab": {
          "base_uri": "https://localhost:8080/",
          "height": 314
        },
        "outputId": "6e57cd6b-3e53-4778-c7fe-f53a6d67d288"
      },
      "source": [
        "Rsqu_test = []\n",
        "\n",
        "order = [1, 2, 3, 4]\n",
        "for n in order:\n",
        "    pr = PolynomialFeatures(degree=n)\n",
        "    \n",
        "    x_train_pr = pr.fit_transform(x_train[['horsepower']])\n",
        "    \n",
        "    x_test_pr = pr.fit_transform(x_test[['horsepower']])    \n",
        "    \n",
        "    lr.fit(x_train_pr, y_train)\n",
        "    \n",
        "    Rsqu_test.append(lr.score(x_test_pr, y_test))\n",
        "\n",
        "plt.plot(order, Rsqu_test)\n",
        "plt.xlabel('order')\n",
        "plt.ylabel('R^2')\n",
        "plt.title('R^2 Using Test Data')\n",
        "plt.text(3, 0.75, 'Maximum R^2 ')    "
      ],
      "execution_count": 208,
      "outputs": [
        {
          "output_type": "execute_result",
          "data": {
            "text/plain": [
              "Text(3, 0.75, 'Maximum R^2 ')"
            ]
          },
          "metadata": {
            "tags": []
          },
          "execution_count": 208
        },
        {
          "output_type": "display_data",
          "data": {
            "image/png": "[encoded data removed]",
            "text/plain": [
              "<Figure size 432x288 with 1 Axes>"
            ]
          },
          "metadata": {
            "tags": [],
            "needs_background": "light"
          }
        }
      ]
    },
    {
      "cell_type": "markdown",
      "metadata": {
        "id": "X2e_Fh2lE436",
        "colab_type": "text"
      },
      "source": [
        "We see the R^2 gradually increases until an order three polynomial is used. Then the  R^2 dramatically decreases at four."
      ]
    },
    {
      "cell_type": "markdown",
      "metadata": {
        "id": "5R44cWmmE437",
        "colab_type": "text"
      },
      "source": [
        "The following function will be used in the next section; please run the cell."
      ]
    },
    {
      "cell_type": "code",
      "metadata": {
        "id": "PxSc6rZfE437",
        "colab_type": "code",
        "colab": {}
      },
      "source": [
        "def f(order, test_data):\n",
        "    x_train, x_test, y_train, y_test = train_test_split(x_data, y_data, test_size=test_data, random_state=0)\n",
        "    pr = PolynomialFeatures(degree=order)\n",
        "    x_train_pr = pr.fit_transform(x_train[['horsepower']])\n",
        "    x_test_pr = pr.fit_transform(x_test[['horsepower']])\n",
        "    poly = LinearRegression()\n",
        "    poly.fit(x_train_pr,y_train)\n",
        "    PollyPlot(x_train[['horsepower']], x_test[['horsepower']], y_train,y_test, poly, pr)"
      ],
      "execution_count": 0,
      "outputs": []
    },
    {
      "cell_type": "markdown",
      "metadata": {
        "id": "IrUnucglE43-",
        "colab_type": "text"
      },
      "source": [
        "The following interface allows you to experiment with different polynomial orders and different amounts of data. "
      ]
    },
    {
      "cell_type": "code",
      "metadata": {
        "id": "JyXvr8EAE43-",
        "colab_type": "code",
        "colab": {
          "base_uri": "https://localhost:8080/",
          "height": 678,
          "referenced_widgets": [
            "fdc9b09d11414a25bba04098d0f612de",
            "4a19f19206f74232a8a2e5750d0093ed",
            "49287a8e49c149ad8115188a1f54cbe7",
            "e582e7e499244af1958b490ef8d2f1a3",
            "0887b729a72a47c5958899cedc5ec84b",
            "c8df24eb60954a579324c6ce8b9f1b45",
            "e29af5f575544a8c9af4c4fbee51f051",
            "2606713b03dd498da9dd423359b6f305",
            "50ca43d0316c4865b67dddef65c54c7d",
            "fcc23a844c0843b3b42309ed54fff02d"
          ]
        },
        "outputId": "b4f0acb1-74a5-4fa3-8bdb-2329eec5a694"
      },
      "source": [
        "interact(f, order=(0, 6, 1), test_data=(0.05, 0.95, 0.05))"
      ],
      "execution_count": 210,
      "outputs": [
        {
          "output_type": "display_data",
          "data": {
            "application/vnd.jupyter.widget-view+json": {
              "model_id": "fdc9b09d11414a25bba04098d0f612de",
              "version_minor": 0,
              "version_major": 2
            },
            "text/plain": [
              "interactive(children=(IntSlider(value=3, description='order', max=6), FloatSlider(value=0.45, description='tes…"
            ]
          },
          "metadata": {
            "tags": []
          }
        },
        {
          "output_type": "execute_result",
          "data": {
            "text/plain": [
              "<function __main__.f>"
            ]
          },
          "metadata": {
            "tags": []
          },
          "execution_count": 210
        }
      ]
    },
    {
      "cell_type": "markdown",
      "metadata": {
        "id": "je7_0vfbE44D",
        "colab_type": "text"
      },
      "source": [
        "<div class=\"alert alert-danger alertdanger\" style=\"margin-top: 20px\">\n",
        "<h1> Question  #4a):</h1>\n",
        "\n",
        "<b>We can perform polynomial transformations with more than one feature. Create a \"PolynomialFeatures\" object \"pr1\" of degree two?</b>\n",
        "</div>"
      ]
    },
    {
      "cell_type": "code",
      "metadata": {
        "id": "XYX-AZNUM7Wc",
        "colab_type": "code",
        "colab": {}
      },
      "source": [
        "pr1 = PolynomialFeatures(degree=2)"
      ],
      "execution_count": 0,
      "outputs": []
    },
    {
      "cell_type": "markdown",
      "metadata": {
        "id": "ofWFvEaeE44D",
        "colab_type": "text"
      },
      "source": [
        "*Double*-click <b>here</b> for the solution.\n",
        "\n",
        "<!-- The answer is below:\n",
        "\n",
        "pr1=PolynomialFeatures(degree=2)\n",
        "\n",
        "-->"
      ]
    },
    {
      "cell_type": "markdown",
      "metadata": {
        "id": "B2s5YMF-E44D",
        "colab_type": "text"
      },
      "source": [
        "<div class=\"alert alert-danger alertdanger\" style=\"margin-top: 20px\">\n",
        "<h1> Question  #4b): </h1>\n",
        "\n",
        "<b> \n",
        " Transform the training and testing samples for the features 'horsepower', 'curb-weight', 'engine-size' and 'highway-mpg'. Hint: use the method \"fit_transform\" \n",
        "?</b>\n",
        "</div>"
      ]
    },
    {
      "cell_type": "code",
      "metadata": {
        "id": "gZKJtXolNDt_",
        "colab_type": "code",
        "colab": {}
      },
      "source": [
        "x_train_pr1 = pr1.fit_transform(x_train[['horsepower', 'curb-weight', 'engine-size', 'highway-mpg']])\n",
        "x_test_pr1 = pr1.fit_transform(x_test[['horsepower', 'curb-weight', 'engine-size', 'highway-mpg']])"
      ],
      "execution_count": 0,
      "outputs": []
    },
    {
      "cell_type": "markdown",
      "metadata": {
        "id": "IrsNDGjfM5ln",
        "colab_type": "text"
      },
      "source": [
        ""
      ]
    },
    {
      "cell_type": "markdown",
      "metadata": {
        "id": "90vsgPhTE44E",
        "colab_type": "text"
      },
      "source": [
        "Double-click <b>here</b> for the solution.\n",
        "\n",
        "<!-- The answer is below:\n",
        "\n",
        "x_train_pr1=pr.fit_transform(x_train[['horsepower', 'curb-weight', 'engine-size', 'highway-mpg']])\n",
        "\n",
        "x_test_pr1=pr.fit_transform(x_test[['horsepower', 'curb-weight', 'engine-size', 'highway-mpg']])\n",
        "\n",
        "-->"
      ]
    },
    {
      "cell_type": "markdown",
      "metadata": {
        "id": "5n794fjkE44E",
        "colab_type": "text"
      },
      "source": [
        "<!-- The answer is below:\n",
        "\n",
        "x_train_pr1=pr.fit_transform(x_train[['horsepower', 'curb-weight', 'engine-size', 'highway-mpg']])\n",
        "x_test_pr1=pr.fit_transform(x_test[['horsepower', 'curb-weight', 'engine-size', 'highway-mpg']])\n",
        "\n",
        "-->"
      ]
    },
    {
      "cell_type": "markdown",
      "metadata": {
        "id": "2gUYPSw2E44F",
        "colab_type": "text"
      },
      "source": [
        "<div class=\"alert alert-danger alertdanger\" style=\"margin-top: 20px\">\n",
        "<h1> Question  #4c): </h1>\n",
        "<b> \n",
        "How many dimensions does the new feature have? Hint: use the attribute \"shape\"\n",
        "</b>\n",
        "</div>"
      ]
    },
    {
      "cell_type": "code",
      "metadata": {
        "id": "wjiOXCICN2Pv",
        "colab_type": "code",
        "colab": {
          "base_uri": "https://localhost:8080/",
          "height": 55
        },
        "outputId": "f0a81df4-e2f8-41fb-d49e-67a77ad13789"
      },
      "source": [
        "print('Dimensions for the polynomial feature for training set: ', x_train_pr1.shape)\n",
        "print('Dimensions for the polynomial feature for testing set: ', x_test_pr1.shape)"
      ],
      "execution_count": 220,
      "outputs": [
        {
          "output_type": "stream",
          "text": [
            "Dimensions for the polynomial feature for training set:  (110, 15)\n",
            "Dimensions for the polynomial feature for testing set:  (91, 15)\n"
          ],
          "name": "stdout"
        }
      ]
    },
    {
      "cell_type": "markdown",
      "metadata": {
        "id": "TOQ36XKsE44F",
        "colab_type": "text"
      },
      "source": [
        "Double-click <b>here</b> for the solution.\n",
        "\n",
        "<!-- The answer is below:\n",
        "\n",
        "There are now 15 features: x_train_pr1.shape \n",
        "\n",
        "-->"
      ]
    },
    {
      "cell_type": "markdown",
      "metadata": {
        "id": "XSG95sg7E44H",
        "colab_type": "text"
      },
      "source": [
        "<div class=\"alert alert-danger alertdanger\" style=\"margin-top: 20px\">\n",
        "<h1> Question  #4d): </h1>\n",
        "\n",
        "<b> \n",
        "Create a linear regression model \"poly1\" and train the object using the method \"fit\" using the polynomial features?</b>\n",
        "</div>"
      ]
    },
    {
      "cell_type": "code",
      "metadata": {
        "id": "00lnEPPhOapw",
        "colab_type": "code",
        "colab": {
          "base_uri": "https://localhost:8080/",
          "height": 36
        },
        "outputId": "77d2d7db-11af-4815-c844-ee9c4a068f6d"
      },
      "source": [
        "poly1 = LinearRegression()\n",
        "poly1.fit(x_train_pr1, y_train)"
      ],
      "execution_count": 221,
      "outputs": [
        {
          "output_type": "execute_result",
          "data": {
            "text/plain": [
              "LinearRegression(copy_X=True, fit_intercept=True, n_jobs=None, normalize=False)"
            ]
          },
          "metadata": {
            "tags": []
          },
          "execution_count": 221
        }
      ]
    },
    {
      "cell_type": "markdown",
      "metadata": {
        "id": "PTvQSIieE44H",
        "colab_type": "text"
      },
      "source": [
        "*Double*-click <b>here</b> for the solution.\n",
        "\n",
        "<!-- The answer is below:\n",
        "\n",
        "poly1=linear_model.LinearRegression().fit(x_train_pr1,y_train)\n",
        "\n",
        "-->"
      ]
    },
    {
      "cell_type": "markdown",
      "metadata": {
        "id": "YXmLCmC7E44I",
        "colab_type": "text"
      },
      "source": [
        " <div class=\"alert alert-danger alertdanger\" style=\"margin-top: 20px\">\n",
        "<h1> Question  #4e): </h1>\n",
        "<b>Use the method  \"predict\" to predict an output on the polynomial features, then use the function \"DistributionPlot\"  to display the distribution of the predicted output vs the test data?</b>\n",
        "</div>"
      ]
    },
    {
      "cell_type": "code",
      "metadata": {
        "id": "YJmyL6swOoEK",
        "colab_type": "code",
        "colab": {
          "base_uri": "https://localhost:8080/",
          "height": 621
        },
        "outputId": "6082626e-5419-4de3-b9d1-c9c1822ecdf5"
      },
      "source": [
        "yhat = poly1.predict(x_test_pr1)\n",
        "DistributionPlot(y_test, yhat, \"Real Data\", \"Predicted Data\", \"A demonstration of real data vs predicted data of a polynomial model\")"
      ],
      "execution_count": 225,
      "outputs": [
        {
          "output_type": "display_data",
          "data": {
            "image/png": "[encoded data removed]",
            "text/plain": [
              "<Figure size 864x720 with 1 Axes>"
            ]
          },
          "metadata": {
            "tags": [],
            "needs_background": "light"
          }
        }
      ]
    },
    {
      "cell_type": "markdown",
      "metadata": {
        "id": "t5TKPNWWE44N",
        "colab_type": "text"
      },
      "source": [
        "Double-click <b>here</b> for the solution.\n",
        "\n",
        "<!-- The answer is below:\n",
        "\n",
        "yhat_test1=poly1.predict(x_test_pr1)\n",
        "Title='Distribution  Plot of  Predicted Value Using Test Data vs Data Distribution of Test Data'\n",
        "DistributionPlot(y_test, yhat_test1, \"Actual Values (Test)\", \"Predicted Values (Test)\", Title)\n",
        "\n",
        "-->"
      ]
    },
    {
      "cell_type": "markdown",
      "metadata": {
        "id": "WcDnRU4pE44O",
        "colab_type": "text"
      },
      "source": [
        "<div class=\"alert alert-danger alertdanger\" style=\"margin-top: 20px\">\n",
        "<h1> Question  #4f): </h1>\n",
        "\n",
        "<b>Use the distribution plot to determine the two regions were the predicted prices are less accurate than the actual prices.</b>\n",
        "</div>"
      ]
    },
    {
      "cell_type": "markdown",
      "metadata": {
        "id": "5D9Hl6iGQHnK",
        "colab_type": "text"
      },
      "source": [
        "<h3>The plot shows discrepancy for the price in the ranges 0-20000 and from 30000-50000</h3> "
      ]
    },
    {
      "cell_type": "markdown",
      "metadata": {
        "id": "9fxZmje2E44O",
        "colab_type": "text"
      },
      "source": [
        "Double-click <b>here</b> for the solution.\n",
        "\n",
        "<!-- The answer is below:\n",
        "\n",
        "The predicted value is lower than actual value for cars where the price  $ 10,000 range, conversely the predicted price is larger than the price cost in the $30, 000 to $40,000 range. As such the model is not as accurate in these ranges .\n",
        "    \n",
        "-->\n",
        "\n",
        "<img src = \"https://ibm.box.com/shared/static/c35ipv9zeanu7ynsnppb8gjo2re5ugeg.png\" width = 700, align = \"center\">\n"
      ]
    },
    {
      "cell_type": "markdown",
      "metadata": {
        "id": "NlIkxQ44E44O",
        "colab_type": "text"
      },
      "source": [
        "<h2 id=\"ref3\">Part 3: Ridge regression</h2> "
      ]
    },
    {
      "cell_type": "markdown",
      "metadata": {
        "id": "oWRd3dymE44P",
        "colab_type": "text"
      },
      "source": [
        " In this section, we will review Ridge Regression we will see how the parameter Alfa changes the model. Just a note here our test data will be used as validation data."
      ]
    },
    {
      "cell_type": "markdown",
      "metadata": {
        "id": "UoLIcO5WE44P",
        "colab_type": "text"
      },
      "source": [
        " Let's perform a degree two polynomial transformation on our data. "
      ]
    },
    {
      "cell_type": "code",
      "metadata": {
        "id": "cCgLVSqpE44Q",
        "colab_type": "code",
        "colab": {}
      },
      "source": [
        "pr=PolynomialFeatures(degree=2)\n",
        "x_train_pr=pr.fit_transform(x_train[['horsepower', 'curb-weight', 'engine-size', 'highway-mpg','normalized-losses','symboling']])\n",
        "x_test_pr=pr.fit_transform(x_test[['horsepower', 'curb-weight', 'engine-size', 'highway-mpg','normalized-losses','symboling']])"
      ],
      "execution_count": 0,
      "outputs": []
    },
    {
      "cell_type": "markdown",
      "metadata": {
        "id": "fIcs3VkME44S",
        "colab_type": "text"
      },
      "source": [
        " Let's import  <b>Ridge</b>  from the module <b>linear models</b>."
      ]
    },
    {
      "cell_type": "code",
      "metadata": {
        "id": "6OFTXRPdE44S",
        "colab_type": "code",
        "colab": {}
      },
      "source": [
        "from sklearn.linear_model import Ridge"
      ],
      "execution_count": 0,
      "outputs": []
    },
    {
      "cell_type": "markdown",
      "metadata": {
        "id": "viai80GGE44U",
        "colab_type": "text"
      },
      "source": [
        "Let's create a Ridge regression object, setting the regularization parameter to 0.1 "
      ]
    },
    {
      "cell_type": "code",
      "metadata": {
        "id": "39smhYGZE44V",
        "colab_type": "code",
        "colab": {}
      },
      "source": [
        "RigeModel=Ridge(alpha=0.1)"
      ],
      "execution_count": 0,
      "outputs": []
    },
    {
      "cell_type": "markdown",
      "metadata": {
        "id": "KuYoUNVEE44Y",
        "colab_type": "text"
      },
      "source": [
        "Like regular regression, you can fit the model using the method <b>fit</b>."
      ]
    },
    {
      "cell_type": "code",
      "metadata": {
        "id": "uaT0qbYTE44Y",
        "colab_type": "code",
        "colab": {
          "base_uri": "https://localhost:8080/",
          "height": 93
        },
        "outputId": "4feb211e-7369-43d6-85bc-f20716448b71"
      },
      "source": [
        "RigeModel.fit(x_train_pr, y_train)"
      ],
      "execution_count": 229,
      "outputs": [
        {
          "output_type": "stream",
          "text": [
            "/usr/local/lib/python3.6/dist-packages/sklearn/linear_model/_ridge.py:148: LinAlgWarning: Ill-conditioned matrix (rcond=1.02972e-16): result may not be accurate.\n",
            "  overwrite_a=True).T\n"
          ],
          "name": "stderr"
        },
        {
          "output_type": "execute_result",
          "data": {
            "text/plain": [
              "Ridge(alpha=0.1, copy_X=True, fit_intercept=True, max_iter=None,\n",
              "      normalize=False, random_state=None, solver='auto', tol=0.001)"
            ]
          },
          "metadata": {
            "tags": []
          },
          "execution_count": 229
        }
      ]
    },
    {
      "cell_type": "markdown",
      "metadata": {
        "id": "NnBSHrroE44b",
        "colab_type": "text"
      },
      "source": [
        " Similarly, you can obtain a prediction: "
      ]
    },
    {
      "cell_type": "code",
      "metadata": {
        "id": "fLYBy3AsE44b",
        "colab_type": "code",
        "colab": {}
      },
      "source": [
        "yhat = RigeModel.predict(x_test_pr)"
      ],
      "execution_count": 0,
      "outputs": []
    },
    {
      "cell_type": "markdown",
      "metadata": {
        "id": "kZCOiARCE44d",
        "colab_type": "text"
      },
      "source": [
        "Let's compare the first five predicted samples to our test set "
      ]
    },
    {
      "cell_type": "code",
      "metadata": {
        "id": "KfOvuBGQE44d",
        "colab_type": "code",
        "colab": {
          "base_uri": "https://localhost:8080/",
          "height": 55
        },
        "outputId": "e7e33305-cc70-4653-9158-c26f532641ef"
      },
      "source": [
        "print('predicted:', yhat[0:4])\n",
        "print('test set :', y_test[0:4].values)"
      ],
      "execution_count": 231,
      "outputs": [
        {
          "output_type": "stream",
          "text": [
            "predicted: [ 6567.83081933  9597.97151399 20836.22326843 19347.69543463]\n",
            "test set : [ 6295. 10698. 13860. 13499.]\n"
          ],
          "name": "stdout"
        }
      ]
    },
    {
      "cell_type": "markdown",
      "metadata": {
        "id": "vhfPuVrfE44f",
        "colab_type": "text"
      },
      "source": [
        "We select the value of Alfa that minimizes the test error, for example, we can use a for loop. "
      ]
    },
    {
      "cell_type": "code",
      "metadata": {
        "id": "T-hINCBIE44g",
        "colab_type": "code",
        "colab": {}
      },
      "source": [
        "Rsqu_test = []\n",
        "Rsqu_train = []\n",
        "dummy1 = []\n",
        "ALFA = 10 * np.array(range(0,1000))\n",
        "for alfa in ALFA:\n",
        "    RigeModel = Ridge(alpha=alfa) \n",
        "    RigeModel.fit(x_train_pr, y_train)\n",
        "    Rsqu_test.append(RigeModel.score(x_test_pr, y_test))\n",
        "    Rsqu_train.append(RigeModel.score(x_train_pr, y_train))"
      ],
      "execution_count": 0,
      "outputs": []
    },
    {
      "cell_type": "markdown",
      "metadata": {
        "id": "2M6cjqMsE44h",
        "colab_type": "text"
      },
      "source": [
        "We can plot out the value of R^2 for different Alphas "
      ]
    },
    {
      "cell_type": "code",
      "metadata": {
        "id": "wV8lUjA1E44i",
        "colab_type": "code",
        "colab": {
          "base_uri": "https://localhost:8080/",
          "height": 625
        },
        "outputId": "65ea4343-e7a6-4509-e82c-f7b9b080a7b1"
      },
      "source": [
        "width = 12\n",
        "height = 10\n",
        "plt.figure(figsize=(width, height))\n",
        "\n",
        "plt.plot(ALFA,Rsqu_test, label='validation data  ')\n",
        "plt.plot(ALFA,Rsqu_train, 'r', label='training Data ')\n",
        "plt.xlabel('alpha')\n",
        "plt.ylabel('R^2')\n",
        "plt.legend()"
      ],
      "execution_count": 234,
      "outputs": [
        {
          "output_type": "execute_result",
          "data": {
            "text/plain": [
              "<matplotlib.legend.Legend at 0x7f327f478ba8>"
            ]
          },
          "metadata": {
            "tags": []
          },
          "execution_count": 234
        },
        {
          "output_type": "display_data",
          "data": {
            "image/png": "[encoded data removed]",
            "text/plain": [
              "<Figure size 864x720 with 1 Axes>"
            ]
          },
          "metadata": {
            "tags": [],
            "needs_background": "light"
          }
        }
      ]
    },
    {
      "cell_type": "markdown",
      "metadata": {
        "id": "jgmTHB0lE44k",
        "colab_type": "text"
      },
      "source": [
        "Figure 6:The blue line represents the R^2 of the test data, and the red line represents the R^2 of the training data. The x-axis represents the different values of Alfa "
      ]
    },
    {
      "cell_type": "markdown",
      "metadata": {
        "id": "0aN7sVdRE44k",
        "colab_type": "text"
      },
      "source": [
        "The red line in figure 6 represents the  R^2 of the test data, as Alpha increases the R^2 decreases; therefore as Alfa increases the model performs worse on the test data.  The blue line represents the R^2 on the validation data, as the value for Alfa increases the R^2 decreases.   "
      ]
    },
    {
      "cell_type": "markdown",
      "metadata": {
        "id": "rXEQBjqKE44l",
        "colab_type": "text"
      },
      "source": [
        "<div class=\"alert alert-danger alertdanger\" style=\"margin-top: 20px\">\n",
        "<h1> Question  #5): </h1>\n",
        "\n",
        "Perform Ridge regression and calculate the R^2 using the polynomial features, use the training data to train the model and test data to test the model. The parameter alpha should be set to  10.\n",
        "</div>"
      ]
    },
    {
      "cell_type": "code",
      "metadata": {
        "id": "MxT7BcnxE44l",
        "colab_type": "code",
        "colab": {
          "base_uri": "https://localhost:8080/",
          "height": 55
        },
        "outputId": "08b95b3d-7a87-4463-bd64-5c590dc6baba"
      },
      "source": [
        "# Write your code below and press Shift+Enter to execute \n",
        "rr = Ridge(alpha=10)\n",
        "rr.fit(x_train_pr, y_train)\n",
        "yhat_test = rr.predict(x_test_pr)\n",
        "rsq_rr_train = rr.score(x_train_pr, y_train)\n",
        "rsq_rr_test = rr.score(x_test_pr, y_test)\n",
        "print('Training R^2:', rsq_rr_train)\n",
        "print('Testing R^2:', rsq_rr_test)"
      ],
      "execution_count": 251,
      "outputs": [
        {
          "output_type": "stream",
          "text": [
            "Training R^2: 0.8706524475732109\n",
            "Testing R^2: 0.5418576440206702\n"
          ],
          "name": "stdout"
        }
      ]
    },
    {
      "cell_type": "markdown",
      "metadata": {
        "id": "NhSNaNIwE44n",
        "colab_type": "text"
      },
      "source": [
        "Double-click <b>here</b> for the solution.\n",
        "\n",
        "<!-- The answer is below:\n",
        "\n",
        "RigeModel = Ridge(alpha=0) \n",
        "RigeModel.fit(x_train_pr, y_train)\n",
        "RigeModel.score(x_test_pr, y_test)\n",
        "\n",
        "-->"
      ]
    },
    {
      "cell_type": "markdown",
      "metadata": {
        "id": "z4wk1IqHE44n",
        "colab_type": "text"
      },
      "source": [
        "<h2 id=\"ref4\">Part 4: Grid Search</h2>"
      ]
    },
    {
      "cell_type": "markdown",
      "metadata": {
        "id": "GNpNKxSqE44n",
        "colab_type": "text"
      },
      "source": [
        "The term Alfa is a hyperparameter, sklearn has the class  <b>GridSearchCV</b> to make the process of finding the best hyperparameter simpler."
      ]
    },
    {
      "cell_type": "markdown",
      "metadata": {
        "id": "UKG0t4ibE44o",
        "colab_type": "text"
      },
      "source": [
        "Let's import <b>GridSearchCV</b> from  the module <b>model_selection</b>."
      ]
    },
    {
      "cell_type": "code",
      "metadata": {
        "id": "V1aDnF4tE44p",
        "colab_type": "code",
        "colab": {}
      },
      "source": [
        "from sklearn.model_selection import GridSearchCV"
      ],
      "execution_count": 0,
      "outputs": []
    },
    {
      "cell_type": "markdown",
      "metadata": {
        "id": "XNgqQ4KHE44r",
        "colab_type": "text"
      },
      "source": [
        "We create a dictionary of parameter values:"
      ]
    },
    {
      "cell_type": "code",
      "metadata": {
        "id": "klzZ5_hQE44s",
        "colab_type": "code",
        "colab": {
          "base_uri": "https://localhost:8080/",
          "height": 36
        },
        "outputId": "9d8e1052-0648-44df-a41b-c44a9c5fdc27"
      },
      "source": [
        "parameters1= [{'alpha': [0.001,0.1,1, 10, 100, 1000, 10000, 100000, 100000]}]\n",
        "parameters1"
      ],
      "execution_count": 253,
      "outputs": [
        {
          "output_type": "execute_result",
          "data": {
            "text/plain": [
              "[{'alpha': [0.001, 0.1, 1, 10, 100, 1000, 10000, 100000, 100000]}]"
            ]
          },
          "metadata": {
            "tags": []
          },
          "execution_count": 253
        }
      ]
    },
    {
      "cell_type": "markdown",
      "metadata": {
        "id": "lwEN1GZOE44v",
        "colab_type": "text"
      },
      "source": [
        "Create a ridge regions object:"
      ]
    },
    {
      "cell_type": "code",
      "metadata": {
        "id": "QxJQkQ1SE44w",
        "colab_type": "code",
        "colab": {
          "base_uri": "https://localhost:8080/",
          "height": 55
        },
        "outputId": "57f76c78-3115-4097-9ad7-b0efe5f675e6"
      },
      "source": [
        "RR=Ridge()\n",
        "RR"
      ],
      "execution_count": 254,
      "outputs": [
        {
          "output_type": "execute_result",
          "data": {
            "text/plain": [
              "Ridge(alpha=1.0, copy_X=True, fit_intercept=True, max_iter=None,\n",
              "      normalize=False, random_state=None, solver='auto', tol=0.001)"
            ]
          },
          "metadata": {
            "tags": []
          },
          "execution_count": 254
        }
      ]
    },
    {
      "cell_type": "markdown",
      "metadata": {
        "id": "tjW3zFrtE44x",
        "colab_type": "text"
      },
      "source": [
        "Create a ridge grid search object "
      ]
    },
    {
      "cell_type": "code",
      "metadata": {
        "id": "MdbqLy5NE44y",
        "colab_type": "code",
        "colab": {}
      },
      "source": [
        "Grid1 = GridSearchCV(RR, parameters1,cv=4)"
      ],
      "execution_count": 0,
      "outputs": []
    },
    {
      "cell_type": "markdown",
      "metadata": {
        "id": "tqxeiCcNE440",
        "colab_type": "text"
      },
      "source": [
        "Fit the model "
      ]
    },
    {
      "cell_type": "code",
      "metadata": {
        "id": "EfjBAPNlE441",
        "colab_type": "code",
        "colab": {
          "base_uri": "https://localhost:8080/",
          "height": 188
        },
        "outputId": "602a5ee0-c780-44c2-a2af-bb1562bcdf92"
      },
      "source": [
        "Grid1.fit(x_data[['horsepower', 'curb-weight', 'engine-size', 'highway-mpg']], y_data)"
      ],
      "execution_count": 256,
      "outputs": [
        {
          "output_type": "execute_result",
          "data": {
            "text/plain": [
              "GridSearchCV(cv=4, error_score=nan,\n",
              "             estimator=Ridge(alpha=1.0, copy_X=True, fit_intercept=True,\n",
              "                             max_iter=None, normalize=False, random_state=None,\n",
              "                             solver='auto', tol=0.001),\n",
              "             iid='deprecated', n_jobs=None,\n",
              "             param_grid=[{'alpha': [0.001, 0.1, 1, 10, 100, 1000, 10000, 100000,\n",
              "                                    100000]}],\n",
              "             pre_dispatch='2*n_jobs', refit=True, return_train_score=False,\n",
              "             scoring=None, verbose=0)"
            ]
          },
          "metadata": {
            "tags": []
          },
          "execution_count": 256
        }
      ]
    },
    {
      "cell_type": "markdown",
      "metadata": {
        "id": "KcnQjNvLE443",
        "colab_type": "text"
      },
      "source": [
        "The object finds the best parameter values on the validation data. We can obtain the estimator with the best parameters and assign it to the variable BestRR as follows:"
      ]
    },
    {
      "cell_type": "code",
      "metadata": {
        "id": "gM677wPYE443",
        "colab_type": "code",
        "colab": {
          "base_uri": "https://localhost:8080/",
          "height": 55
        },
        "outputId": "5a92be99-a53d-46ee-c379-cc4ef92d82ce"
      },
      "source": [
        "BestRR=Grid1.best_estimator_\n",
        "BestRR"
      ],
      "execution_count": 257,
      "outputs": [
        {
          "output_type": "execute_result",
          "data": {
            "text/plain": [
              "Ridge(alpha=10000, copy_X=True, fit_intercept=True, max_iter=None,\n",
              "      normalize=False, random_state=None, solver='auto', tol=0.001)"
            ]
          },
          "metadata": {
            "tags": []
          },
          "execution_count": 257
        }
      ]
    },
    {
      "cell_type": "markdown",
      "metadata": {
        "id": "-5a6L8QCE445",
        "colab_type": "text"
      },
      "source": [
        " We now test our model on the test data "
      ]
    },
    {
      "cell_type": "code",
      "metadata": {
        "id": "Re_JgRpRE445",
        "colab_type": "code",
        "colab": {
          "base_uri": "https://localhost:8080/",
          "height": 36
        },
        "outputId": "1cfe5e49-2d6e-4afc-f382-3a11f3b2d595"
      },
      "source": [
        "BestRR.score(x_test[['horsepower', 'curb-weight', 'engine-size', 'highway-mpg']], y_test)"
      ],
      "execution_count": 258,
      "outputs": [
        {
          "output_type": "execute_result",
          "data": {
            "text/plain": [
              "0.8411649831036152"
            ]
          },
          "metadata": {
            "tags": []
          },
          "execution_count": 258
        }
      ]
    },
    {
      "cell_type": "markdown",
      "metadata": {
        "id": "L4CVUScFE447",
        "colab_type": "text"
      },
      "source": [
        "<div class=\"alert alert-danger alertdanger\" style=\"margin-top: 20px\">\n",
        "<h1> Question  #6): </h1>\n",
        "Perform a grid search for the alpha parameter and the normalization parameter, then find the best values of the parameters\n",
        "</div>"
      ]
    },
    {
      "cell_type": "code",
      "metadata": {
        "id": "MA1ohTiWE447",
        "colab_type": "code",
        "colab": {
          "base_uri": "https://localhost:8080/",
          "height": 55
        },
        "outputId": "bd24179d-0fb6-4c80-8c7c-769b744579dd"
      },
      "source": [
        "# Write your code below and press Shift+Enter to execute \n",
        "parameters = {'alpha': [0.001,0.1,1, 10, 100, 1000, 10000, 100000, 100000], 'normalize': [True, False]}\n",
        "rr = Ridge()\n",
        "grid_search = GridSearchCV(rr, parameters, cv=4)\n",
        "grid_search.fit(x_train[['horsepower', 'curb-weight', 'engine-size', 'highway-mpg']], y_train)\n",
        "print('Best Estimator:', grid_search.best_estimator_)"
      ],
      "execution_count": 272,
      "outputs": [
        {
          "output_type": "stream",
          "text": [
            "Best Estimator: Ridge(alpha=1, copy_X=True, fit_intercept=True, max_iter=None, normalize=True,\n",
            "      random_state=None, solver='auto', tol=0.001)\n"
          ],
          "name": "stdout"
        }
      ]
    },
    {
      "cell_type": "markdown",
      "metadata": {
        "id": "KuQD4aJyE449",
        "colab_type": "text"
      },
      "source": [
        "Double-click <b>here</b> for the solution.\n",
        "\n",
        "<!-- The answer is below:\n",
        "\n",
        "parameters2= [{'alpha': [0.001,0.1,1, 10, 100, 1000,10000,100000,100000],'normalize':[True,False]} ]\n",
        "Grid2 = GridSearchCV(Ridge(), parameters2,cv=4)\n",
        "Grid2.fit(x_data[['horsepower', 'curb-weight', 'engine-size', 'highway-mpg']],y_data)\n",
        "Grid2.best_estimator_\n",
        "\n",
        "-->"
      ]
    },
    {
      "cell_type": "markdown",
      "metadata": {
        "id": "WmdZjIgpE449",
        "colab_type": "text"
      },
      "source": [
        "<h1>Thank you for completing this notebook!</h1>"
      ]
    },
    {
      "cell_type": "markdown",
      "metadata": {
        "id": "JreMjujUE44-",
        "colab_type": "text"
      },
      "source": [
        "<div class=\"alert alert-block alert-info\" style=\"margin-top: 20px\">\n",
        "\n",
        "    <p><a href=\"https://cocl.us/corsera_da0101en_notebook_bottom\"><img src=\"https://s3-api.us-geo.objectstorage.softlayer.net/cf-courses-data/CognitiveClass/DA0101EN/Images/BottomAd.png\" width=\"750\" align=\"center\"></a></p>\n",
        "</div>\n"
      ]
    },
    {
      "cell_type": "markdown",
      "metadata": {
        "id": "uAqL22zGE44-",
        "colab_type": "text"
      },
      "source": [
        "<h3>About the Authors:</h3>\n",
        "\n",
        "This notebook was written by <a href=\"https://www.linkedin.com/in/mahdi-noorian-58219234/\" target=\"_blank\">Mahdi Noorian PhD</a>, <a href=\"https://www.linkedin.com/in/joseph-s-50398b136/\" target=\"_blank\">Joseph Santarcangelo</a>, Bahare Talayian, Eric Xiao, Steven Dong, Parizad, Hima Vsudevan and <a href=\"https://www.linkedin.com/in/fiorellawever/\" target=\"_blank\">Fiorella Wenver</a> and <a href=\" https://www.linkedin.com/in/yi-leng-yao-84451275/ \" target=\"_blank\" >Yi Yao</a>.\n",
        "\n",
        "<p><a href=\"https://www.linkedin.com/in/joseph-s-50398b136/\" target=\"_blank\">Joseph Santarcangelo</a> is a Data Scientist at IBM, and holds a PhD in Electrical Engineering. His research focused on using Machine Learning, Signal Processing, and Computer Vision to determine how videos impact human cognition. Joseph has been working for IBM since he completed his PhD.</p>"
      ]
    },
    {
      "cell_type": "markdown",
      "metadata": {
        "id": "X4ULsSlCE44-",
        "colab_type": "text"
      },
      "source": [
        "<hr>\n",
        "<p>Copyright &copy; 2018 IBM Developer Skills Network. This notebook and its source code are released under the terms of the <a href=\"https://cognitiveclass.ai/mit-license/\">MIT License</a>.</p>"
      ]
    }
  ]
}